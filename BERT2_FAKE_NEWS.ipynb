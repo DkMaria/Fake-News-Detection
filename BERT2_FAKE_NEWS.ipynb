{
  "nbformat": 4,
  "nbformat_minor": 0,
  "metadata": {
    "colab": {
      "name": "BERT2_FAKE_NEWS.ipynb",
      "provenance": [],
      "mount_file_id": "1jKXHWVLQMHrXra0EKCtHzQ90M0Z5AnZM",
      "authorship_tag": "ABX9TyOryShrq5JoF0rA4pKTapj7",
      "include_colab_link": true
    },
    "kernelspec": {
      "name": "python3",
      "display_name": "Python 3"
    },
    "language_info": {
      "name": "python"
    }
  },
  "cells": [
    {
      "cell_type": "markdown",
      "metadata": {
        "id": "view-in-github",
        "colab_type": "text"
      },
      "source": [
        "<a href=\"https://colab.research.google.com/github/DkMaria/Fake-News-Detection/blob/main/BERT2_FAKE_NEWS.ipynb\" target=\"_parent\"><img src=\"https://colab.research.google.com/assets/colab-badge.svg\" alt=\"Open In Colab\"/></a>"
      ]
    },
    {
      "cell_type": "code",
      "metadata": {
        "id": "qbKmuP4xGiju"
      },
      "source": [
        "!pip install pytorch_pretrained_bert pytorch-nlp"
      ],
      "execution_count": null,
      "outputs": []
    },
    {
      "cell_type": "code",
      "metadata": {
        "colab": {
          "base_uri": "https://localhost:8080/"
        },
        "id": "sUHPsdnJ7Tci",
        "outputId": "5e7731d9-e08d-4b36-f9e9-6852fdf6491f"
      },
      "source": [
        "from google.colab import drive\n",
        "drive.mount('/content/drive')"
      ],
      "execution_count": null,
      "outputs": [
        {
          "output_type": "stream",
          "name": "stdout",
          "text": [
            "Drive already mounted at /content/drive; to attempt to forcibly remount, call drive.mount(\"/content/drive\", force_remount=True).\n"
          ]
        }
      ]
    },
    {
      "cell_type": "code",
      "metadata": {
        "colab": {
          "base_uri": "https://localhost:8080/"
        },
        "id": "NXCl76HD7d6C",
        "outputId": "8b4743fb-2f4d-4aa7-bad5-b052c5c1fd46"
      },
      "source": [
        "# verify GPU availability\n",
        "import tensorflow as tf\n",
        "\n",
        "device_name = tf.test.gpu_device_name()\n",
        "if device_name != '/device:GPU:0':\n",
        "  raise SystemError('GPU device not found')\n",
        "print('Found GPU at: {}'.format(device_name))"
      ],
      "execution_count": null,
      "outputs": [
        {
          "output_type": "stream",
          "name": "stdout",
          "text": [
            "Found GPU at: /device:GPU:0\n"
          ]
        }
      ]
    },
    {
      "cell_type": "code",
      "metadata": {
        "id": "46Ij1_o-7hpr"
      },
      "source": [
        "import pandas as pd\n",
        "import numpy as np\n",
        "import torch\n",
        "import torch.nn as nn\n",
        "from sklearn.model_selection import train_test_split\n",
        "import torch.utils.data as data_utils\n",
        "import torch.optim as optim\n",
        "import gc #garbage collector for gpu memory \n",
        "from tqdm import tqdm"
      ],
      "execution_count": null,
      "outputs": []
    },
    {
      "cell_type": "code",
      "metadata": {
        "colab": {
          "base_uri": "https://localhost:8080/"
        },
        "id": "-KpUVxBS7kVH",
        "outputId": "17041a29-4f20-4357-85f1-62064e059f8c"
      },
      "source": [
        "# read csv files which contains all TRUE claims\n",
        "true = pd.read_csv('/content/drive/MyDrive/true28.csv', delimiter=\",\")\n",
        "df_true = pd.DataFrame(true, columns=['headline', 'text', 'keywords', 'datePublished', 'ratingName'])\n",
        "print('TRUE: ', df_true)\n",
        "print(len(df_true)) # 4448\n",
        "print(df_true.head())\n",
        "\n",
        "# read csv files which contains all FALSE claims\n",
        "false = pd.read_csv('/content/drive/MyDrive/false05.csv', delimiter=\",\", encoding='mac_roman')\n",
        "df_false = pd.DataFrame(false, columns=['headline', 'text', 'keywords', 'datePublished', 'ratingName'])\n",
        "print('FALSE: ', df_false)\n",
        "print(len(df_false)) # \n",
        "print(df_false.head())\n",
        "\n",
        "df_true['label'] = 0\n",
        "df_false['label'] = 1\n",
        "data = pd.concat([df_true, df_false])\n",
        "labels = data['label']\n",
        "\n",
        "# shuffle the dataset\n",
        "data = data.sample(frac=1)\n",
        "\n",
        "target = data['label'].values"
      ],
      "execution_count": null,
      "outputs": [
        {
          "output_type": "stream",
          "name": "stdout",
          "text": [
            "TRUE:                                                 headline  ... ratingName\n",
            "0                   Fiorina: Trump's abortion flip-flop  ...       True\n",
            "1     Sean Hannity says Barack Obama's jobs bill cre...  ...       True\n",
            "2                          \"\"Executive\"\" makes it right  ...       True\n",
            "3                 Chase Bank Won’t Allow Cash Deposits?  ...       True\n",
            "4                            Shackelford Prayer Request  ...       True\n",
            "...                                                 ...  ...        ...\n",
            "4108                                        Moose Story  ...       True\n",
            "4109  Rand Paul says federal spending has risen to 2...  ...       True\n",
            "4110                                    Vieques Closure  ...       True\n",
            "4111          DeKalb CEO says he wields a big budget ax  ...       True\n",
            "4112               Dewitos: Doritos Flavor Mountain Dew  ...       True\n",
            "\n",
            "[4113 rows x 5 columns]\n",
            "4113\n",
            "                                            headline  ... ratingName\n",
            "0                Fiorina: Trump's abortion flip-flop  ...       True\n",
            "1  Sean Hannity says Barack Obama's jobs bill cre...  ...       True\n",
            "2                       \"\"Executive\"\" makes it right  ...       True\n",
            "3              Chase Bank Won’t Allow Cash Deposits?  ...       True\n",
            "4                         Shackelford Prayer Request  ...       True\n",
            "\n",
            "[5 rows x 5 columns]\n",
            "FALSE:                                                 headline  ... ratingName\n",
            "0                           Who Stripped Jessica Rabbit  ...      False\n",
            "1            Translation of Turkish Airline Regulations  ...      False\n",
            "2     The health care law a \"\"job killer\"\"? The evid...  ...      False\n",
            "3     FALSE: Trump Supporters Misspelled His Name wi...  ...      False\n",
            "4                      Tom Daschle Pledge of Allegiance  ...      False\n",
            "...                                                 ...  ...        ...\n",
            "9995  Rauner's Chicago schools \"\"bailout\"\" claim roo...  ...      False\n",
            "9996  Did President Trump Sign an Executive Order Na...  ...      False\n",
            "9997                                One Pound of Mofeen  ...      False\n",
            "9998  No, Trump didn't say illegal immigration has b...  ...      False\n",
            "9999   Is This a Poster for a New ‚ÄòTwilight‚Äô Movie?  ...      False\n",
            "\n",
            "[10000 rows x 5 columns]\n",
            "10000\n",
            "                                            headline  ... ratingName\n",
            "0                        Who Stripped Jessica Rabbit  ...      False\n",
            "1         Translation of Turkish Airline Regulations  ...      False\n",
            "2  The health care law a \"\"job killer\"\"? The evid...  ...      False\n",
            "3  FALSE: Trump Supporters Misspelled His Name wi...  ...      False\n",
            "4                   Tom Daschle Pledge of Allegiance  ...      False\n",
            "\n",
            "[5 rows x 5 columns]\n"
          ]
        }
      ]
    },
    {
      "cell_type": "code",
      "metadata": {
        "colab": {
          "base_uri": "https://localhost:8080/"
        },
        "id": "IRJJJkJD8Q6X",
        "outputId": "2c4fb2a6-d189-46d8-e697-85367b06a9c8"
      },
      "source": [
        "from collections import Counter\n",
        "print(Counter(data['ratingName'].values))"
      ],
      "execution_count": null,
      "outputs": [
        {
          "output_type": "stream",
          "name": "stdout",
          "text": [
            "Counter({False: 10000, True: 4113})\n"
          ]
        }
      ]
    },
    {
      "cell_type": "code",
      "metadata": {
        "id": "Xw1oghvA9JU5"
      },
      "source": [
        "# class count\n",
        "true_count, false_count = data['label'].value_counts()"
      ],
      "execution_count": null,
      "outputs": []
    },
    {
      "cell_type": "code",
      "metadata": {
        "colab": {
          "base_uri": "https://localhost:8080/"
        },
        "id": "gnKlI1zh9ZLx",
        "outputId": "e4a553ba-6af1-456e-d53c-034982e39cb8"
      },
      "source": [
        "# Separate class\n",
        "true = data[data['label'] == 0] #true claims\n",
        "false = data[data['label'] == 1]# print the shape of the class #false claims\n",
        "print('true 0:', true.shape)\n",
        "print('false 1:', false.shape)"
      ],
      "execution_count": null,
      "outputs": [
        {
          "output_type": "stream",
          "name": "stdout",
          "text": [
            "true 0: (4113, 6)\n",
            "false 1: (10000, 6)\n"
          ]
        }
      ]
    },
    {
      "cell_type": "code",
      "metadata": {
        "colab": {
          "base_uri": "https://localhost:8080/",
          "height": 347
        },
        "id": "UF0Xu2xS8i2_",
        "outputId": "a731a873-ee32-4aee-841b-aa3ea1efcf22"
      },
      "source": [
        "'''Oversampling can be defined as adding more copies to the minority class. Oversampling can be a good choice when \n",
        "   you don’t have a ton of data to work with. A con to consider when undersampling is that it can cause overfitting \n",
        "   and poor generalization to your test set'''\n",
        "'''true_over = true.sample(true_count, replace=True)\n",
        "\n",
        "test_over = pd.concat([true_over, false], axis=0)\n",
        "\n",
        "print(\"total class of 1 and 0:\",test_over['label'].value_counts())# plot the count after under-sampeling\n",
        "test_over['label'].value_counts().plot(kind='bar', title='count (target)')'''\n",
        "\n",
        "\n",
        "'''Undersampling can be defined as removing some observations of the majority class. This is done until the majority and \n",
        "minority class is balanced out'''\n",
        "false_under = false.sample(false_count)\n",
        "#print(class_1_under)\n",
        "\n",
        "test_under = pd.concat([false_under, true], axis=0)\n",
        "\n",
        "print(\"total class of 1 and 0:\",test_under['label'].value_counts())# plot the count after under-sampeling\n",
        "test_under['label'].value_counts().plot(kind='bar', title='count (target)')\n"
      ],
      "execution_count": null,
      "outputs": [
        {
          "output_type": "stream",
          "name": "stdout",
          "text": [
            "total class of 1 and 0: 1    4113\n",
            "0    4113\n",
            "Name: label, dtype: int64\n"
          ]
        },
        {
          "output_type": "execute_result",
          "data": {
            "text/plain": [
              "<matplotlib.axes._subplots.AxesSubplot at 0x7f50316b7210>"
            ]
          },
          "metadata": {},
          "execution_count": 10
        },
        {
          "output_type": "display_data",
          "data": {
            "image/png": "[encoded data removed]",
            "text/plain": [
              "<Figure size 432x288 with 1 Axes>"
            ]
          },
          "metadata": {
            "needs_background": "light"
          }
        }
      ]
    },
    {
      "cell_type": "code",
      "metadata": {
        "id": "YCowspLoB56V"
      },
      "source": [
        "target = test_over['label']"
      ],
      "execution_count": null,
      "outputs": []
    },
    {
      "cell_type": "code",
      "metadata": {
        "id": "BRQex9DfaqOm"
      },
      "source": [
        "data = test_under.sample(frac=1)\n",
        "''' split dataset to 1000, 100 --> gives accuracy 0.72\n",
        "train_data = data.head(1000)\n",
        "test_data = data.tail(100)'''"
      ],
      "execution_count": null,
      "outputs": []
    },
    {
      "cell_type": "code",
      "metadata": {
        "id": "VddlQN0_baIL"
      },
      "source": [
        "train_data"
      ],
      "execution_count": null,
      "outputs": []
    },
    {
      "cell_type": "code",
      "metadata": {
        "colab": {
          "base_uri": "https://localhost:8080/"
        },
        "id": "7RZ1YJyPdy5t",
        "outputId": "7583432a-b694-44de-e8c6-22a4a4366ccd"
      },
      "source": [
        "type(test_data)"
      ],
      "execution_count": null,
      "outputs": [
        {
          "output_type": "execute_result",
          "data": {
            "text/plain": [
              "pandas.core.frame.DataFrame"
            ]
          },
          "metadata": {},
          "execution_count": 12
        }
      ]
    },
    {
      "cell_type": "code",
      "metadata": {
        "id": "gpqxdM9Lb7bN"
      },
      "source": [
        "train_txts = train_data['text']\n",
        "train_lbels = train_data['label']\n",
        "\n",
        "test_txts = test_data['text']\n",
        "test_lbels = test_data['label']"
      ],
      "execution_count": null,
      "outputs": []
    },
    {
      "cell_type": "code",
      "metadata": {
        "colab": {
          "base_uri": "https://localhost:8080/"
        },
        "id": "sJT8ctkhBGnU",
        "outputId": "4840e176-864a-42c7-87fd-c6509fda1c48"
      },
      "source": [
        "'''print(type(test_text))\n",
        "print(type(test_labels))'''"
      ],
      "execution_count": null,
      "outputs": [
        {
          "output_type": "stream",
          "name": "stdout",
          "text": [
            "<class 'pandas.core.series.Series'>\n",
            "<class 'pandas.core.series.Series'>\n"
          ]
        }
      ]
    },
    {
      "cell_type": "code",
      "metadata": {
        "id": "sI7lVsXZNp5I"
      },
      "source": [
        "'''test_text = pd.Series(test_text, name = \"Text\")\n",
        "test_label = pd.Series(test_labels, name = \"Label\")\n",
        "\n",
        "test_data = pd.concat([test_text, test_label.astype(int)], axis = 1)\n",
        "print(test_data)'''"
      ],
      "execution_count": null,
      "outputs": []
    },
    {
      "cell_type": "code",
      "metadata": {
        "id": "2TR7XVieCf-B"
      },
      "source": [
        "pip install transformers"
      ],
      "execution_count": null,
      "outputs": []
    },
    {
      "cell_type": "code",
      "metadata": {
        "id": "670dPZfOCakm"
      },
      "source": [
        "from sklearn.metrics import classification_report\n",
        "import transformers\n",
        "from torch.utils.data import TensorDataset, DataLoader, RandomSampler, SequentialSampler\n",
        "from pytorch_pretrained_bert import BertTokenizer"
      ],
      "execution_count": null,
      "outputs": []
    },
    {
      "cell_type": "code",
      "metadata": {
        "id": "UNAyyR6UCMrs"
      },
      "source": [
        "# import BERT-base pretrained model\n",
        "#bert = AutoModel.from_pretrained('bert-base-uncased')\n",
        "\n",
        "# Load the BERT tokenizer\n",
        "tokenizer = BertTokenizer.from_pretrained('bert-base-uncased')"
      ],
      "execution_count": null,
      "outputs": []
    },
    {
      "cell_type": "code",
      "metadata": {
        "id": "mQ0g9zKxMJo_"
      },
      "source": [
        "'''train_texts, train_labels = list(zip(*map(lambda data: (train_data['Text'], train_data['Label']), train_data)))\n",
        "test_texts, test_labels = list(zip(*map(lambda data: (test_data['Text'], test_data['Label']), test_data)))'''"
      ],
      "execution_count": null,
      "outputs": []
    },
    {
      "cell_type": "code",
      "metadata": {
        "colab": {
          "base_uri": "https://localhost:8080/"
        },
        "id": "jr278nE5VNCx",
        "outputId": "9c6b9d24-9f69-43fe-cf92-9a93b4dce841"
      },
      "source": [
        "len(train_txts), len(train_lbels), len(test_txts), len(test_lbels)"
      ],
      "execution_count": null,
      "outputs": [
        {
          "output_type": "execute_result",
          "data": {
            "text/plain": [
              "(1000, 1000, 100, 100)"
            ]
          },
          "metadata": {},
          "execution_count": 17
        }
      ]
    },
    {
      "cell_type": "code",
      "metadata": {
        "id": "A6r3HMTwDIc1"
      },
      "source": [
        "train_tokens = list(map(lambda t: ['[CLS]'] + tokenizer.tokenize(t)[:511], train_txts))\n",
        "test_tokens = list(map(lambda t: ['[CLS]'] + tokenizer.tokenize(t)[:511], test_txts))"
      ],
      "execution_count": null,
      "outputs": []
    },
    {
      "cell_type": "code",
      "metadata": {
        "id": "Z5SrS8KBDdpL"
      },
      "source": [
        "'''Convert each token in each news to an id as present in the tokenizer vocabulary. If there’s a \n",
        "   token that is not present in the vocabulary, the tokenizer will use the special [UNK] token and\n",
        "   use its id'''\n",
        "train_tokens_ids = list(map(tokenizer.convert_tokens_to_ids, train_tokens))\n",
        "test_tokens_ids = list(map(tokenizer.convert_tokens_to_ids, test_tokens))"
      ],
      "execution_count": null,
      "outputs": []
    },
    {
      "cell_type": "code",
      "metadata": {
        "id": "kJquxvvkEd01"
      },
      "source": [
        "from keras.preprocessing.sequence import pad_sequences"
      ],
      "execution_count": null,
      "outputs": []
    },
    {
      "cell_type": "code",
      "metadata": {
        "id": "TqxNHaB6ECSj"
      },
      "source": [
        "'''we need to pad our input so it will have the same size of 512. It means that for any review that \n",
        "   is shorter than 512 tokens, we’ll add zeros to reach 512 tokens'''\n",
        "\n",
        "train_tokens_ids = pad_sequences(train_tokens_ids, maxlen=512, truncating=\"post\", padding=\"post\", dtype=\"int\")\n",
        "test_tokens_ids = pad_sequences(test_tokens_ids, maxlen=512, truncating=\"post\", padding=\"post\", dtype=\"int\")"
      ],
      "execution_count": null,
      "outputs": []
    },
    {
      "cell_type": "code",
      "metadata": {
        "id": "IdfszA6xEmgL"
      },
      "source": [
        "'''Our target variable is currently a list of 0 and 1. We’ll convert it to numpy arrays of\n",
        "   booleans'''\n",
        "\n",
        "train_y = np.array(train_lbels) \n",
        "test_y = np.array(test_lbels)"
      ],
      "execution_count": null,
      "outputs": []
    },
    {
      "cell_type": "code",
      "metadata": {
        "colab": {
          "base_uri": "https://localhost:8080/"
        },
        "id": "NikuDN8nJKpS",
        "outputId": "c66c15d6-3979-492d-922b-3814b3fd2366"
      },
      "source": [
        "type(train_y)"
      ],
      "execution_count": null,
      "outputs": [
        {
          "output_type": "execute_result",
          "data": {
            "text/plain": [
              "numpy.ndarray"
            ]
          },
          "metadata": {},
          "execution_count": 23
        }
      ]
    },
    {
      "cell_type": "code",
      "metadata": {
        "id": "H4Pd-sBrH8bP"
      },
      "source": [
        "from pytorch_pretrained_bert import BertModel"
      ],
      "execution_count": null,
      "outputs": []
    },
    {
      "cell_type": "code",
      "metadata": {
        "id": "M6yDjLhKFNMS"
      },
      "source": [
        "'''Create our BERT classifier which contains an ‘initialization’ method and a ‘forward’ method that \n",
        "   returns token probabilities'''\n",
        "class BertBinaryClassifier(nn.Module):\n",
        "    def __init__(self, dropout=0.1):\n",
        "        super(BertBinaryClassifier, self).__init__()\n",
        "\n",
        "        self.bert = BertModel.from_pretrained('bert-base-uncased')\n",
        "\n",
        "        self.dropout = nn.Dropout(dropout)\n",
        "        self.linear = nn.Linear(768, 1)\n",
        "        self.sigmoid = nn.Sigmoid()\n",
        "    \n",
        "    def forward(self, tokens, masks=None):\n",
        "        _, pooled_output = self.bert(tokens, attention_mask=masks, output_all_encoded_layers=False)\n",
        "        dropout_output = self.dropout(pooled_output)\n",
        "        linear_output = self.linear(dropout_output)\n",
        "        proba = self.sigmoid(linear_output)\n",
        "        return proba"
      ],
      "execution_count": null,
      "outputs": []
    },
    {
      "cell_type": "code",
      "metadata": {
        "colab": {
          "base_uri": "https://localhost:8080/"
        },
        "id": "LI3oZqwIiUf0",
        "outputId": "861ac4c1-8998-4e74-9e07-8f2dde8f18ba"
      },
      "source": [
        "device = torch.device(\"cuda\" if torch.cuda.is_available() else \"cpu\")\n",
        "device"
      ],
      "execution_count": null,
      "outputs": [
        {
          "output_type": "execute_result",
          "data": {
            "text/plain": [
              "device(type='cuda')"
            ]
          },
          "metadata": {},
          "execution_count": 26
        }
      ]
    },
    {
      "cell_type": "code",
      "metadata": {
        "colab": {
          "base_uri": "https://localhost:8080/",
          "height": 35
        },
        "id": "Po7G49Amicip",
        "outputId": "c4e9bcf2-1d27-4c64-e51b-37154da083db"
      },
      "source": [
        "str(torch.cuda.memory_allocated(device)/1000000 ) + 'M'"
      ],
      "execution_count": null,
      "outputs": [
        {
          "output_type": "execute_result",
          "data": {
            "application/vnd.google.colaboratory.intrinsic+json": {
              "type": "string"
            },
            "text/plain": [
              "'0.0M'"
            ]
          },
          "metadata": {},
          "execution_count": 27
        }
      ]
    },
    {
      "cell_type": "code",
      "metadata": {
        "id": "xL8RzBiUihnu"
      },
      "source": [
        "bert_clf = BertBinaryClassifier()\n",
        "bert_clf = bert_clf.cuda()"
      ],
      "execution_count": null,
      "outputs": []
    },
    {
      "cell_type": "code",
      "metadata": {
        "colab": {
          "base_uri": "https://localhost:8080/",
          "height": 35
        },
        "id": "MWQFsESWinS-",
        "outputId": "86b09e0b-48bf-4937-9e74-4d756cbd2f54"
      },
      "source": [
        "str(torch.cuda.memory_allocated(device)/1000000 ) + 'M'"
      ],
      "execution_count": null,
      "outputs": [
        {
          "output_type": "execute_result",
          "data": {
            "application/vnd.google.colaboratory.intrinsic+json": {
              "type": "string"
            },
            "text/plain": [
              "'439.065088M'"
            ]
          },
          "metadata": {},
          "execution_count": 29
        }
      ]
    },
    {
      "cell_type": "code",
      "metadata": {
        "colab": {
          "base_uri": "https://localhost:8080/"
        },
        "id": "W2P8yJjjitQA",
        "outputId": "5e0e36be-5b21-42e5-802e-313eb2b2d391"
      },
      "source": [
        "x = torch.tensor(train_tokens_ids[:3]).to(device)\n",
        "y, pooled = bert_clf.bert(x, output_all_encoded_layers=False)\n",
        "x.shape, y.shape, pooled.shape"
      ],
      "execution_count": null,
      "outputs": [
        {
          "output_type": "execute_result",
          "data": {
            "text/plain": [
              "(torch.Size([3, 512]), torch.Size([3, 512, 768]), torch.Size([3, 768]))"
            ]
          },
          "metadata": {},
          "execution_count": 30
        }
      ]
    },
    {
      "cell_type": "code",
      "metadata": {
        "colab": {
          "base_uri": "https://localhost:8080/",
          "height": 35
        },
        "id": "SiFydbR9jQJe",
        "outputId": "38d3224a-6d7d-4c34-f9c6-259a74909509"
      },
      "source": [
        "y, x, pooled = None, None, None\n",
        "torch.cuda.empty_cache()\n",
        "str(torch.cuda.memory_allocated(device)/1000000 ) + 'M'"
      ],
      "execution_count": null,
      "outputs": [
        {
          "output_type": "execute_result",
          "data": {
            "application/vnd.google.colaboratory.intrinsic+json": {
              "type": "string"
            },
            "text/plain": [
              "'3568.20736M'"
            ]
          },
          "metadata": {},
          "execution_count": 31
        }
      ]
    },
    {
      "cell_type": "code",
      "metadata": {
        "id": "3_KKqL30grVX"
      },
      "source": [
        "BATCH_SIZE = 4\n",
        "EPOCHS = 10"
      ],
      "execution_count": null,
      "outputs": []
    },
    {
      "cell_type": "code",
      "metadata": {
        "id": "3J3KVeyNIJuv"
      },
      "source": [
        "'''Generate training and testing masks'''\n",
        "train_masks = [[float(i > 0) for i in ii] for ii in train_tokens_ids]\n",
        "test_masks = [[float(i > 0) for i in ii] for ii in test_tokens_ids]\n",
        "train_masks_tensor = torch.tensor(train_masks)\n",
        "test_masks_tensor = torch.tensor(test_masks)"
      ],
      "execution_count": null,
      "outputs": []
    },
    {
      "cell_type": "code",
      "metadata": {
        "id": "vbPwFNkdIdb9"
      },
      "source": [
        "'''Generate token tensors for training and testing'''\n",
        "train_tokens_tensor = torch.tensor(train_tokens_ids)\n",
        "train_y_tensor = torch.tensor(train_y.reshape(-1, 1)).float()\n",
        "test_tokens_tensor = torch.tensor(test_tokens_ids)\n",
        "test_y_tensor = torch.tensor(test_y.reshape(-1, 1)).float()"
      ],
      "execution_count": null,
      "outputs": []
    },
    {
      "cell_type": "code",
      "metadata": {
        "id": "h5mLehe6FALf"
      },
      "source": [
        "'''Prepare data loaders'''\n",
        "train_dataset =  torch.utils.data.TensorDataset(train_tokens_tensor, train_masks_tensor, train_y_tensor)\n",
        "train_sampler =  torch.utils.data.RandomSampler(train_dataset)\n",
        "train_dataloader =  torch.utils.data.DataLoader(train_dataset, sampler=train_sampler, batch_size=BATCH_SIZE)\n",
        "test_dataset =  torch.utils.data.TensorDataset(test_tokens_tensor, test_masks_tensor, test_y_tensor)\n",
        "test_sampler =  torch.utils.data.SequentialSampler(test_dataset)\n",
        "test_dataloader =  torch.utils.data.DataLoader(test_dataset, sampler=test_sampler, batch_size=BATCH_SIZE)"
      ],
      "execution_count": null,
      "outputs": []
    },
    {
      "cell_type": "code",
      "metadata": {
        "id": "JzicamwpiGLg"
      },
      "source": [
        "param_optimizer = list(bert_clf.sigmoid.named_parameters()) \n",
        "optimizer_grouped_parameters = [{\"params\": [p for n, p in param_optimizer]}]"
      ],
      "execution_count": null,
      "outputs": []
    },
    {
      "cell_type": "code",
      "metadata": {
        "id": "imzDBTwDiRSz"
      },
      "source": [
        "from torch.optim import Adam"
      ],
      "execution_count": null,
      "outputs": []
    },
    {
      "cell_type": "code",
      "metadata": {
        "id": "yq1MBHNSiIWf"
      },
      "source": [
        "optimizer = Adam(bert_clf.parameters(), lr=3e-6)"
      ],
      "execution_count": null,
      "outputs": []
    },
    {
      "cell_type": "code",
      "metadata": {
        "id": "pJgnqTONjzp9"
      },
      "source": [
        "torch.cuda.empty_cache()"
      ],
      "execution_count": null,
      "outputs": []
    },
    {
      "cell_type": "code",
      "metadata": {
        "id": "RIdRsfeMguTk"
      },
      "source": [
        "for epoch_num in range(EPOCHS):\n",
        "    bert_clf.train()\n",
        "    train_loss = 0\n",
        "    for step_num, batch_data in enumerate(train_dataloader):\n",
        "        token_ids, masks, labels = tuple(t.to(device) for t in batch_data)\n",
        "        print(str(torch.cuda.memory_allocated(device)/1000000 ) + 'M')\n",
        "        logits = bert_clf(token_ids, masks)\n",
        "        \n",
        "        loss_func = nn.BCELoss()\n",
        "\n",
        "        batch_loss = loss_func(logits, labels)\n",
        "        train_loss += batch_loss.item()\n",
        "        \n",
        "        \n",
        "        bert_clf.zero_grad()\n",
        "        batch_loss.backward()\n",
        "        \n",
        "\n",
        "        #clip_grad_norm_(parameters=bert_clf.parameters(), max_norm=1.0)\n",
        "        optimizer.step()\n",
        "        \n",
        "        #clear_output(wait=True)\n",
        "        print('Epoch: ', epoch_num + 1)\n",
        "        print(\"\\r\" + \"{0}/{1} loss: {2} \".format(step_num, len(train_data) / BATCH_SIZE, train_loss / (step_num + 1)))"
      ],
      "execution_count": null,
      "outputs": []
    },
    {
      "cell_type": "code",
      "metadata": {
        "id": "DLZA_4Wuj7YH"
      },
      "source": [
        "bert_clf.eval()\n",
        "bert_predicted = []\n",
        "all_logits = []\n",
        "with torch.no_grad():\n",
        "    for step_num, batch_data in enumerate(test_dataloader):\n",
        "\n",
        "        token_ids, masks, labels = tuple(t.to(device) for t in batch_data)\n",
        "\n",
        "        logits = bert_clf(token_ids, masks)\n",
        "        loss_func = nn.BCELoss()\n",
        "        loss = loss_func(logits, labels)\n",
        "        numpy_logits = logits.cpu().detach().numpy()\n",
        "        \n",
        "        bert_predicted += list(numpy_logits[:, 0] > 0.5)\n",
        "        all_logits += list(numpy_logits[:, 0])"
      ],
      "execution_count": null,
      "outputs": []
    },
    {
      "cell_type": "code",
      "metadata": {
        "colab": {
          "base_uri": "https://localhost:8080/"
        },
        "id": "UiknD7Naj9Np",
        "outputId": "979f143c-b7d1-40d2-d094-d7d1082df299"
      },
      "source": [
        "np.mean(bert_predicted)"
      ],
      "execution_count": null,
      "outputs": [
        {
          "output_type": "execute_result",
          "data": {
            "text/plain": [
              "0.41"
            ]
          },
          "metadata": {},
          "execution_count": 45
        }
      ]
    },
    {
      "cell_type": "code",
      "metadata": {
        "colab": {
          "base_uri": "https://localhost:8080/"
        },
        "id": "zM79bzmskACi",
        "outputId": "6cca0a0f-007d-4972-d6ef-b6cf2af1f6f2"
      },
      "source": [
        "print(classification_report(test_y, bert_predicted))"
      ],
      "execution_count": null,
      "outputs": [
        {
          "output_type": "stream",
          "name": "stdout",
          "text": [
            "              precision    recall  f1-score   support\n",
            "\n",
            "           0       0.59      0.90      0.71        39\n",
            "           1       0.90      0.61      0.73        61\n",
            "\n",
            "    accuracy                           0.72       100\n",
            "   macro avg       0.75      0.75      0.72       100\n",
            "weighted avg       0.78      0.72      0.72       100\n",
            "\n"
          ]
        }
      ]
    }
  ]
}