{
  "nbformat": 4,
  "nbformat_minor": 0,
  "metadata": {
    "colab": {
      "name": "transe_w/olabel.ipynb",
      "provenance": [],
      "mount_file_id": "176eSK560a9e2uezImm5eMPE0tNcO2v_7",
      "authorship_tag": "ABX9TyPinIyKZs8d1dVqzuaH5C4w",
      "include_colab_link": true
    },
    "kernelspec": {
      "name": "python3",
      "display_name": "Python 3"
    },
    "language_info": {
      "name": "python"
    }
  },
  "cells": [
    {
      "cell_type": "markdown",
      "metadata": {
        "id": "view-in-github",
        "colab_type": "text"
      },
      "source": [
        "<a href=\"https://colab.research.google.com/github/DkMaria/Fake-News-Detection/blob/main/transe_w_olabel.ipynb\" target=\"_parent\"><img src=\"https://colab.research.google.com/assets/colab-badge.svg\" alt=\"Open In Colab\"/></a>"
      ]
    },
    {
      "cell_type": "markdown",
      "source": [
        "KGE1401 with no the information of label"
      ],
      "metadata": {
        "id": "No5XGAI305M4"
      }
    },
    {
      "cell_type": "code",
      "execution_count": null,
      "metadata": {
        "id": "yJNuY8aG04sy"
      },
      "outputs": [],
      "source": [
        "pip uninstall tensorflow"
      ]
    },
    {
      "cell_type": "code",
      "source": [
        "pip install \"tensorflow>=1.15.2,<2.0\""
      ],
      "metadata": {
        "id": "Fpv59U7l1CHf"
      },
      "execution_count": null,
      "outputs": []
    },
    {
      "cell_type": "code",
      "source": [
        "# install AmpliGraph and other dependencies\n",
        "\n",
        "%%capture \n",
        "# Install AmpliGraph library\n",
        "! pip install ampligraph"
      ],
      "metadata": {
        "id": "pRJ01iPy1FN1"
      },
      "execution_count": 3,
      "outputs": []
    },
    {
      "cell_type": "code",
      "source": [
        "#check if tensorflow is correctly installed \n",
        "import tensorflow as tf \n",
        "print(tf.version.VERSION)"
      ],
      "metadata": {
        "id": "zHcKq1rw1Fs-",
        "colab": {
          "base_uri": "https://localhost:8080/"
        },
        "outputId": "656f8386-de92-4114-d73f-87b91a6260e9"
      },
      "execution_count": 4,
      "outputs": [
        {
          "output_type": "stream",
          "name": "stdout",
          "text": [
            "1.15.5\n"
          ]
        }
      ]
    },
    {
      "cell_type": "code",
      "source": [
        "# All imports used in this notebook\n",
        "%tensorflow_version 1.x\n",
        "import ampligraph\n",
        "import numpy as np\n",
        "import pandas as pd\n",
        "import pandas as pd\n",
        "from ampligraph.datasets import load_from_csv \n",
        "from ampligraph.evaluation import train_test_split_no_unseen, evaluate_performance, mr_score, mrr_score, hits_at_n_score\n",
        "from ampligraph.latent_features import TransE\n",
        "from xgboost import XGBClassifier\n",
        "from sklearn.metrics import classification_report, accuracy_score\n",
        "from ampligraph.utils import create_tensorboard_visualizations "
      ],
      "metadata": {
        "id": "HcpLfRXk1HVB",
        "colab": {
          "base_uri": "https://localhost:8080/"
        },
        "outputId": "2200b7cb-8e31-4db0-b090-f17f2118cd61"
      },
      "execution_count": 5,
      "outputs": [
        {
          "output_type": "stream",
          "name": "stdout",
          "text": [
            "TensorFlow is already loaded. Please restart the runtime to change versions.\n"
          ]
        }
      ]
    },
    {
      "cell_type": "code",
      "source": [
        "# load data\n",
        "true = load_from_csv('.', '/content/drive/MyDrive/results15.csv', sep=',') \n",
        "false = load_from_csv('.', '/content/drive/MyDrive/resultsf15.csv', sep = ',')\n",
        "\n",
        "df_true = pd.DataFrame(true, columns = ['id', 'text', 'ratingName', 'author',  'headline', 'named_entities_claim', 'named_entities_article', 'keywords', 'source', 'sourceURL', 'link', 'language'])\n",
        "df_false = pd.DataFrame(false, columns = ['id', 'text', 'ratingName', 'author', 'headline', 'named_entities_claim', 'named_entities_article', 'keywords', 'source', 'sourceURL', 'link', 'language'])\n",
        "\n",
        "df_true['label'] = 0\n",
        "df_false['label'] = 1\n",
        "\n",
        "data = pd.concat([df_false, df_true])\n",
        "# shuffle the dataset\n",
        "data = data.sample(frac=1)\n",
        "\n",
        "# drop data with no additional information\n",
        "data = data.drop(columns= 'ratingName')\n",
        "data = data.drop(columns= 'sourceURL')\n",
        "data = data.drop(columns = 'link')\n",
        "data.head()"
      ],
      "metadata": {
        "colab": {
          "base_uri": "https://localhost:8080/",
          "height": 617
        },
        "id": "Tvmlye-21LW7",
        "outputId": "6a42ec3e-f9fd-4487-9ebe-c0594f74fc59"
      },
      "execution_count": 6,
      "outputs": [
        {
          "output_type": "execute_result",
          "data": {
            "text/html": [
              "\n",
              "  <div id=\"df-6324a45a-33c5-4d6b-9972-fa3ba78a8ea9\">\n",
              "    <div class=\"colab-df-container\">\n",
              "      <div>\n",
              "<style scoped>\n",
              "    .dataframe tbody tr th:only-of-type {\n",
              "        vertical-align: middle;\n",
              "    }\n",
              "\n",
              "    .dataframe tbody tr th {\n",
              "        vertical-align: top;\n",
              "    }\n",
              "\n",
              "    .dataframe thead th {\n",
              "        text-align: right;\n",
              "    }\n",
              "</style>\n",
              "<table border=\"1\" class=\"dataframe\">\n",
              "  <thead>\n",
              "    <tr style=\"text-align: right;\">\n",
              "      <th></th>\n",
              "      <th>id</th>\n",
              "      <th>text</th>\n",
              "      <th>author</th>\n",
              "      <th>headline</th>\n",
              "      <th>named_entities_claim</th>\n",
              "      <th>named_entities_article</th>\n",
              "      <th>keywords</th>\n",
              "      <th>source</th>\n",
              "      <th>language</th>\n",
              "      <th>label</th>\n",
              "    </tr>\n",
              "  </thead>\n",
              "  <tbody>\n",
              "    <tr>\n",
              "      <th>3983</th>\n",
              "      <td>http://data.gesis.org/claimskg/claim_review/c2...</td>\n",
              "      <td>'The law says ... when a police officer stops ...</td>\n",
              "      <td>Harry Houck</td>\n",
              "      <td>Former NYPD detective on Sandra Bland's traffi...</td>\n",
              "      <td>American Civil Liberties Union,CNN Tonight,Dav...</td>\n",
              "      <td>NaN</td>\n",
              "      <td>Corrections and Updates,Crime</td>\n",
              "      <td>politifact</td>\n",
              "      <td>English</td>\n",
              "      <td>1</td>\n",
              "    </tr>\n",
              "    <tr>\n",
              "      <th>8675</th>\n",
              "      <td>http://data.gesis.org/claimskg/claim_review/e0...</td>\n",
              "      <td>A NYC firefighter’s dare to Osama bin Laden br...</td>\n",
              "      <td>Unknown</td>\n",
              "      <td>American Airlines Flight 587 Crash</td>\n",
              "      <td>11 September 2001 terrorist attacks,American A...</td>\n",
              "      <td>American Airlines Flight 587,Osama bin Laden</td>\n",
              "      <td>ASP Article</td>\n",
              "      <td>snopes</td>\n",
              "      <td>English</td>\n",
              "      <td>1</td>\n",
              "    </tr>\n",
              "    <tr>\n",
              "      <th>2842</th>\n",
              "      <td>http://data.gesis.org/claimskg/claim_review/41...</td>\n",
              "      <td>Says Donald Trump 'used undocumented labor to ...</td>\n",
              "      <td>Hillary Clinton</td>\n",
              "      <td>Hillary Clinton correctly claims that Trump To...</td>\n",
              "      <td>Donald Trump,Hillary Clinton,I'll get,Manhatta...</td>\n",
              "      <td>Donald Trump,Trump Tower</td>\n",
              "      <td>Candidate Biography,Immigration</td>\n",
              "      <td>politifact</td>\n",
              "      <td>English</td>\n",
              "      <td>0</td>\n",
              "    </tr>\n",
              "    <tr>\n",
              "      <th>5000</th>\n",
              "      <td>http://data.gesis.org/claimskg/claim_review/7b...</td>\n",
              "      <td>In the past 20 years, Egypt has made 'great st...</td>\n",
              "      <td>Sameh Shoukry</td>\n",
              "      <td>Egyptian ambassador claims Egypt has made \"\"gr...</td>\n",
              "      <td>Cairo,Committee to Protect Journalists,Council...</td>\n",
              "      <td>Egypt</td>\n",
              "      <td>Foreign Policy,This Week - ABC News</td>\n",
              "      <td>politifact</td>\n",
              "      <td>English</td>\n",
              "      <td>1</td>\n",
              "    </tr>\n",
              "    <tr>\n",
              "      <th>384</th>\n",
              "      <td>http://data.gesis.org/claimskg/claim_review/2d...</td>\n",
              "      <td>Some states hit hardest by opioid deaths 'have...</td>\n",
              "      <td>Eric Schneiderman</td>\n",
              "      <td>Do some states have more opioid prescriptions ...</td>\n",
              "      <td>Alabama,Arkansas,Eric Schneiderman,Kaiser Fami...</td>\n",
              "      <td>opioid</td>\n",
              "      <td>Drugs</td>\n",
              "      <td>politifact</td>\n",
              "      <td>English</td>\n",
              "      <td>0</td>\n",
              "    </tr>\n",
              "  </tbody>\n",
              "</table>\n",
              "</div>\n",
              "      <button class=\"colab-df-convert\" onclick=\"convertToInteractive('df-6324a45a-33c5-4d6b-9972-fa3ba78a8ea9')\"\n",
              "              title=\"Convert this dataframe to an interactive table.\"\n",
              "              style=\"display:none;\">\n",
              "        \n",
              "  <svg xmlns=\"http://www.w3.org/2000/svg\" height=\"24px\"viewBox=\"0 0 24 24\"\n",
              "       width=\"24px\">\n",
              "    <path d=\"M0 0h24v24H0V0z\" fill=\"none\"/>\n",
              "    <path d=\"M18.56 5.44l.94 2.06.94-2.06 2.06-.94-2.06-.94-.94-2.06-.94 2.06-2.06.94zm-11 1L8.5 8.5l.94-2.06 2.06-.94-2.06-.94L8.5 2.5l-.94 2.06-2.06.94zm10 10l.94 2.06.94-2.06 2.06-.94-2.06-.94-.94-2.06-.94 2.06-2.06.94z\"/><path d=\"M17.41 7.96l-1.37-1.37c-.4-.4-.92-.59-1.43-.59-.52 0-1.04.2-1.43.59L10.3 9.45l-7.72 7.72c-.78.78-.78 2.05 0 2.83L4 21.41c.39.39.9.59 1.41.59.51 0 1.02-.2 1.41-.59l7.78-7.78 2.81-2.81c.8-.78.8-2.07 0-2.86zM5.41 20L4 18.59l7.72-7.72 1.47 1.35L5.41 20z\"/>\n",
              "  </svg>\n",
              "      </button>\n",
              "      \n",
              "  <style>\n",
              "    .colab-df-container {\n",
              "      display:flex;\n",
              "      flex-wrap:wrap;\n",
              "      gap: 12px;\n",
              "    }\n",
              "\n",
              "    .colab-df-convert {\n",
              "      background-color: #E8F0FE;\n",
              "      border: none;\n",
              "      border-radius: 50%;\n",
              "      cursor: pointer;\n",
              "      display: none;\n",
              "      fill: #1967D2;\n",
              "      height: 32px;\n",
              "      padding: 0 0 0 0;\n",
              "      width: 32px;\n",
              "    }\n",
              "\n",
              "    .colab-df-convert:hover {\n",
              "      background-color: #E2EBFA;\n",
              "      box-shadow: 0px 1px 2px rgba(60, 64, 67, 0.3), 0px 1px 3px 1px rgba(60, 64, 67, 0.15);\n",
              "      fill: #174EA6;\n",
              "    }\n",
              "\n",
              "    [theme=dark] .colab-df-convert {\n",
              "      background-color: #3B4455;\n",
              "      fill: #D2E3FC;\n",
              "    }\n",
              "\n",
              "    [theme=dark] .colab-df-convert:hover {\n",
              "      background-color: #434B5C;\n",
              "      box-shadow: 0px 1px 3px 1px rgba(0, 0, 0, 0.15);\n",
              "      filter: drop-shadow(0px 1px 2px rgba(0, 0, 0, 0.3));\n",
              "      fill: #FFFFFF;\n",
              "    }\n",
              "  </style>\n",
              "\n",
              "      <script>\n",
              "        const buttonEl =\n",
              "          document.querySelector('#df-6324a45a-33c5-4d6b-9972-fa3ba78a8ea9 button.colab-df-convert');\n",
              "        buttonEl.style.display =\n",
              "          google.colab.kernel.accessAllowed ? 'block' : 'none';\n",
              "\n",
              "        async function convertToInteractive(key) {\n",
              "          const element = document.querySelector('#df-6324a45a-33c5-4d6b-9972-fa3ba78a8ea9');\n",
              "          const dataTable =\n",
              "            await google.colab.kernel.invokeFunction('convertToInteractive',\n",
              "                                                     [key], {});\n",
              "          if (!dataTable) return;\n",
              "\n",
              "          const docLinkHtml = 'Like what you see? Visit the ' +\n",
              "            '<a target=\"_blank\" href=https://colab.research.google.com/notebooks/data_table.ipynb>data table notebook</a>'\n",
              "            + ' to learn more about interactive tables.';\n",
              "          element.innerHTML = '';\n",
              "          dataTable['output_type'] = 'display_data';\n",
              "          await google.colab.output.renderOutput(dataTable, element);\n",
              "          const docLink = document.createElement('div');\n",
              "          docLink.innerHTML = docLinkHtml;\n",
              "          element.appendChild(docLink);\n",
              "        }\n",
              "      </script>\n",
              "    </div>\n",
              "  </div>\n",
              "  "
            ],
            "text/plain": [
              "                                                     id  ... label\n",
              "3983  http://data.gesis.org/claimskg/claim_review/c2...  ...     1\n",
              "8675  http://data.gesis.org/claimskg/claim_review/e0...  ...     1\n",
              "2842  http://data.gesis.org/claimskg/claim_review/41...  ...     0\n",
              "5000  http://data.gesis.org/claimskg/claim_review/7b...  ...     1\n",
              "384   http://data.gesis.org/claimskg/claim_review/2d...  ...     0\n",
              "\n",
              "[5 rows x 10 columns]"
            ]
          },
          "metadata": {},
          "execution_count": 6
        }
      ]
    },
    {
      "cell_type": "code",
      "source": [
        "#knowledge graph creation\n",
        "# naming entities\n",
        "data['id'] =  data.id \n",
        "data['text'] = data.text \n",
        "data['author'] = data.author \n",
        "data['headline'] = data.headline \n",
        "data['named_entities_claim'] = data.named_entities_claim  \n",
        "data['named_entities_article'] =  data.named_entities_article \n",
        "data['keywords'] =  data.keywords \n",
        "data['source'] = data.source \n",
        "data['language'] = data.language "
      ],
      "metadata": {
        "id": "YB9WZUBF1MAW"
      },
      "execution_count": 7,
      "outputs": []
    },
    {
      "cell_type": "code",
      "source": [
        "triples = []\n",
        "for _, row in data.iterrows():\n",
        "    text = (row['id'], \"hasText\", row['text'])\n",
        "    author = (row['id'], \"isWrittenBy\", row['author'])\n",
        "    headline = (row['id'], \"hasHeadline\", row['headline'])\n",
        "    named_entities_claim = (row['id'], \"referredEntities\", row[\"named_entities_claim\"])\n",
        "    keywords = (row['id'], \"containKeywords\", row['keywords'])\n",
        "    language = (row['id'], \"isWrittenIn\", row['language'])\n",
        "    source = (row['id'], \"isLocated\", row['source'])\n",
        "\n",
        "    triples.extend((text, author, headline, named_entities_claim, keywords, language, source))"
      ],
      "metadata": {
        "id": "7idfrZtv1OL0"
      },
      "execution_count": 8,
      "outputs": []
    },
    {
      "cell_type": "code",
      "source": [
        "# split triples to train-valid-test set\n",
        "# get the validation set of size 500\n",
        "test_train, X_valid = train_test_split_no_unseen(np.array(triples), 500, seed=0)\n",
        "\n",
        "# get the test set of size 1000 from the remaining triples\n",
        "X_train, X_test = train_test_split_no_unseen(test_train, test_size=10000, seed=0)\n",
        "\n",
        "print('Train set size: ', X_train.shape)\n",
        "print('Valid set size: ', X_valid.shape)\n",
        "print('Test set size: ', X_test.shape)"
      ],
      "metadata": {
        "colab": {
          "base_uri": "https://localhost:8080/"
        },
        "id": "jJMj-z5M1SOk",
        "outputId": "ea7f6049-c89f-4940-b0ea-71c07d8f0ed3"
      },
      "execution_count": 10,
      "outputs": [
        {
          "output_type": "stream",
          "name": "stdout",
          "text": [
            "Train set size:  (90678, 3)\n",
            "Valid set size:  (500, 3)\n",
            "Test set size:  (10000, 3)\n"
          ]
        }
      ]
    },
    {
      "cell_type": "code",
      "source": [
        "model = TransE(k=150,                                                             # embedding size\n",
        "               epochs=100,                                                        # Num of epochs\n",
        "               batches_count= 10,                                                 # Number of batches \n",
        "               eta=1,                                                             # number of corruptions to generate during training\n",
        "               loss='pairwise', loss_params={'margin': 1},                        # loss type and it's hyperparameters         \n",
        "               initializer='xavier', initializer_params={'uniform': False},       # initializer type and it's hyperparameters\n",
        "               regularizer='LP', regularizer_params= {'lambda': 0.001, 'p': 3},   # regularizer along with its hyperparameters\n",
        "               optimizer= 'adam', optimizer_params= {'lr': 0.001},                # optimizer to use along with its hyperparameters\n",
        "               seed= 0, verbose=True)\n",
        "tf.logging.set_verbosity(tf.logging.ERROR)\n",
        "model.fit(X_train)"
      ],
      "metadata": {
        "colab": {
          "base_uri": "https://localhost:8080/"
        },
        "id": "ZT9PwoJ01U-m",
        "outputId": "e2aa644a-ff34-40d4-944e-c7f37e063cb4"
      },
      "execution_count": 11,
      "outputs": [
        {
          "output_type": "stream",
          "name": "stderr",
          "text": [
            "Average TransE Loss:   0.023688: 100%|██████████| 100/100 [03:29<00:00,  2.10s/epoch]\n"
          ]
        }
      ]
    },
    {
      "cell_type": "code",
      "source": [
        "# Evaluating knowledge embeddings\n",
        "print('Size of X_test:', X_test.shape)\n",
        "\n",
        "# Append the Train, Valid and Test set to the X_filter.\n",
        "''' The model has not \"observed\" them during training. We do so because, we would like\n",
        "   to evaluate a test triple against it's corruptions and not against known facts. \n",
        "   If we know that the Validation triples and Test triples are facts (and not queries),\n",
        "   we need to filter these triples out of the generated corruptions. This is the standard \n",
        "   procedure that is used to compute the metrics to compete on the leadership board.'''\n",
        "\n",
        "X_filter = np.concatenate([X_train, X_valid], 0)\n",
        "\n",
        "ranks = evaluate_performance(X_test, \n",
        "                             model=model,\n",
        "                             filter_triples=X_filter)"
      ],
      "metadata": {
        "id": "xmgdhUN71ZEJ",
        "colab": {
          "base_uri": "https://localhost:8080/"
        },
        "outputId": "fc9bc71d-8370-4a59-ba1d-4f63461fb0e2"
      },
      "execution_count": 12,
      "outputs": [
        {
          "output_type": "stream",
          "name": "stdout",
          "text": [
            "Size of X_test: (10000, 3)\n",
            "WARNING - You are attempting to use 66055 distinct entities to generate synthetic negatives in the evaluation\n",
            "    protocol. This may be unnecessary and will lead to a 'harder' task. Besides, it will lead to a much slower\n",
            "    evaluation procedure. We recommended to set the 'corruption_entities' argument to a reasonably sized set\n",
            "    of entities. The size of corruption_entities depends on your domain-specific task.\n"
          ]
        },
        {
          "output_type": "stream",
          "name": "stderr",
          "text": [
            "/usr/local/lib/python3.7/dist-packages/ampligraph/evaluation/protocol.py:952: UserWarning: You are attempting to use 66055 distinct entities to generate synthetic negatives in the evaluation\n",
            "    protocol. This may be unnecessary and will lead to a 'harder' task. Besides, it will lead to a much slower\n",
            "    evaluation procedure. We recommended to set the 'corruption_entities' argument to a reasonably sized set\n",
            "    of entities. The size of corruption_entities depends on your domain-specific task.\n",
            "  warnings.warn(warn_msg % ent_for_corruption_size)\n",
            "100%|██████████| 10000/10000 [18:45<00:00,  8.89it/s]\n"
          ]
        }
      ]
    },
    {
      "cell_type": "code",
      "source": [
        "mr = mr_score(ranks)\n",
        "mrr = mrr_score(ranks)\n",
        "\n",
        "print(\"MRR: %.2f\" % (mrr))\n",
        "print(\"MR: %.2f\" % (mr))\n",
        "\n",
        "hits_10 = hits_at_n_score(ranks, n=10)\n",
        "print(\"Hits@10: %.2f\" % (hits_10))\n",
        "hits_3 = hits_at_n_score(ranks, n=3)\n",
        "print(\"Hits@3: %.2f\" % (hits_3))\n",
        "hits_1 = hits_at_n_score(ranks, n=1)\n",
        "print(\"Hits@1: %.2f\" % (hits_1))"
      ],
      "metadata": {
        "colab": {
          "base_uri": "https://localhost:8080/"
        },
        "id": "2iapo59-9bkL",
        "outputId": "49aba76f-2291-4391-d7b7-ada2333737db"
      },
      "execution_count": 13,
      "outputs": [
        {
          "output_type": "stream",
          "name": "stdout",
          "text": [
            "MRR: 0.33\n",
            "MR: 2773.85\n",
            "Hits@10: 0.38\n",
            "Hits@3: 0.35\n",
            "Hits@1: 0.30\n"
          ]
        }
      ]
    },
    {
      "cell_type": "code",
      "source": [
        "from sklearn.model_selection import train_test_split\n",
        "\n",
        "y = data['label']\n",
        "train_X, X1_test, train_y, y1_test = train_test_split(data['id'], y, test_size=0.20, random_state=42)\n",
        "X1_train, X_val, y1_train, y_val = train_test_split(train_X, train_y, test_size =0.10, random_state=42)\n",
        "print('Size training set: ',len(X1_train))\n",
        "print('Size validation set: ', len(X_val))\n",
        "print('Size test set: ', len(X1_test))"
      ],
      "metadata": {
        "colab": {
          "base_uri": "https://localhost:8080/"
        },
        "id": "7tYjfYnB1bXq",
        "outputId": "194fdda8-0ae1-4bd1-c294-801bb9e229a3"
      },
      "execution_count": 14,
      "outputs": [
        {
          "output_type": "stream",
          "name": "stdout",
          "text": [
            "Size training set:  10406\n",
            "Size validation set:  1157\n",
            "Size test set:  2891\n"
          ]
        }
      ]
    },
    {
      "cell_type": "code",
      "source": [
        "# get the embeddings for X1_train\n",
        "X_train_clf = model.get_embeddings(X1_train)\n",
        "X_test_clf = model.get_embeddings(X1_test)\n",
        "X_val_clf = model.get_embeddings(X_val)"
      ],
      "metadata": {
        "id": "iVdsGnXG1dXx"
      },
      "execution_count": 15,
      "outputs": []
    },
    {
      "cell_type": "code",
      "source": [
        "# XGB classifier\n",
        "clf_model = XGBClassifier(n_estimators=500, max_depth=5, binary=\"logistic\")\n",
        "\n",
        "\n",
        "eval_set = [(X_train_clf, y1_train),(X_val_clf,y_val)]\n",
        "clf_model.fit(X_train_clf,y1_train, eval_metric=['error','logloss'], eval_set=eval_set)"
      ],
      "metadata": {
        "id": "tJpjaLBS1fTc"
      },
      "execution_count": null,
      "outputs": []
    },
    {
      "cell_type": "code",
      "source": [
        "from matplotlib import pyplot\n",
        "# retrieve performance metrics\n",
        "results = clf_model.evals_result()\n",
        "\n",
        "# plot learning curves\n",
        "pyplot.plot(results['validation_0']['logloss'], label='training loss')\n",
        "pyplot.plot(results['validation_1']['logloss'], label='validation loss')\n",
        "# show the legend\n",
        "pyplot.legend()\n",
        "pyplot.title('XGBoost Classification Loss')\n",
        "# show the plot\n",
        "pyplot.show()"
      ],
      "metadata": {
        "colab": {
          "base_uri": "https://localhost:8080/",
          "height": 281
        },
        "id": "MJLFlEZgZWsd",
        "outputId": "3c15c270-1507-4b7f-fc09-bc63517242e2"
      },
      "execution_count": 17,
      "outputs": [
        {
          "output_type": "display_data",
          "data": {
            "image/png": "[encoded data removed]",
            "text/plain": [
              "<Figure size 432x288 with 1 Axes>"
            ]
          },
          "metadata": {
            "needs_background": "light"
          }
        }
      ]
    },
    {
      "cell_type": "code",
      "source": [
        "# plot classification error\n",
        "epochs = len(results['validation_0']['error'])\n",
        "x_axis = range(0, epochs)\n",
        "fig, ax = pyplot.subplots()\n",
        "ax.plot(x_axis, results['validation_0']['error'], label='Training error')\n",
        "ax.plot(x_axis, results['validation_1']['error'], label='Validation error')\n",
        "ax.legend()\n",
        "pyplot.ylabel('Classification Error')\n",
        "pyplot.title('XGBoost Classification Error')\n",
        "pyplot.show()"
      ],
      "metadata": {
        "colab": {
          "base_uri": "https://localhost:8080/",
          "height": 281
        },
        "id": "3r9H2ZGcZZR_",
        "outputId": "1a468ad0-bc39-49cb-a44f-3ec4bce2e639"
      },
      "execution_count": 18,
      "outputs": [
        {
          "output_type": "display_data",
          "data": {
            "image/png": "[encoded data removed]",
            "text/plain": [
              "<Figure size 432x288 with 1 Axes>"
            ]
          },
          "metadata": {
            "needs_background": "light"
          }
        }
      ]
    },
    {
      "cell_type": "code",
      "source": [
        "print('Classification report for TransE - XGBclassifier without label information')\n",
        "target_names = ['real_news', 'fake_news']\n",
        "print(classification_report(y1_test,  clf_model.predict(X_test_clf), target_names = target_names))"
      ],
      "metadata": {
        "colab": {
          "base_uri": "https://localhost:8080/"
        },
        "id": "6ls3jhk2Y-6J",
        "outputId": "a916e68b-5d90-427e-e38d-4c840499f44d"
      },
      "execution_count": 19,
      "outputs": [
        {
          "output_type": "stream",
          "name": "stdout",
          "text": [
            "Classification report for TransE - XGBclassifier without label information\n",
            "              precision    recall  f1-score   support\n",
            "\n",
            "   real_news       0.40      0.13      0.20       917\n",
            "   fake_news       0.69      0.91      0.79      1974\n",
            "\n",
            "    accuracy                           0.66      2891\n",
            "   macro avg       0.55      0.52      0.49      2891\n",
            "weighted avg       0.60      0.66      0.60      2891\n",
            "\n"
          ]
        }
      ]
    },
    {
      "cell_type": "code",
      "source": [
        "import matplotlib.pyplot as plt\n",
        "import numpy as np\n",
        "\n",
        "def plot_classification_report(cr, title='Classification report ', with_avg_total=False, cmap=plt.cm.Blues):\n",
        "\n",
        "    lines = cr.split('\\n')\n",
        "\n",
        "    classes = []\n",
        "    plotMat = []\n",
        "    for line in lines[2 : (len(lines) - 5)]:\n",
        "        print(line)\n",
        "        t = line.split()\n",
        "        print(t)\n",
        "        classes.append(t[0])\n",
        "        v = [float(x) for x in t[1: len(t) - 1]]\n",
        "        print(v)\n",
        "        plotMat.append(v)\n",
        "\n",
        "    if with_avg_total:\n",
        "        aveTotal = lines[len(lines) - 1].split()\n",
        "        classes.append('avg/total')\n",
        "        vAveTotal = [float(x) for x in t[1:len(aveTotal) - 1]]\n",
        "        plotMat.append(vAveTotal)\n",
        "\n",
        "\n",
        "    plt.imshow(plotMat, interpolation='nearest', cmap=cmap)\n",
        "    plt.title(title)\n",
        "    plt.colorbar()\n",
        "    x_tick_marks = np.arange(3)\n",
        "    y_tick_marks = np.arange(len(classes))\n",
        "    plt.xticks(x_tick_marks, ['precision', 'recall', 'f1-score'], rotation=45)\n",
        "    plt.yticks(y_tick_marks, classes)\n",
        "    plt.tight_layout()\n",
        "    plt.ylabel('Classes')\n",
        "    plt.xlabel('Measures')\n",
        "\n",
        "\n",
        "ClassificationReport = classification_report(y1_test, clf_model.predict(X_test_clf),target_names = target_names)\n",
        "plot_classification_report(ClassificationReport)"
      ],
      "metadata": {
        "colab": {
          "base_uri": "https://localhost:8080/",
          "height": 409
        },
        "id": "JBQbsTgVZl28",
        "outputId": "eb4e646a-a21e-4e75-c746-19ca6fadae96"
      },
      "execution_count": 20,
      "outputs": [
        {
          "output_type": "stream",
          "name": "stdout",
          "text": [
            "   real_news       0.40      0.13      0.20       917\n",
            "['real_news', '0.40', '0.13', '0.20', '917']\n",
            "[0.4, 0.13, 0.2]\n",
            "   fake_news       0.69      0.91      0.79      1974\n",
            "['fake_news', '0.69', '0.91', '0.79', '1974']\n",
            "[0.69, 0.91, 0.79]\n"
          ]
        },
        {
          "output_type": "display_data",
          "data": {
            "image/png": "[encoded data removed]",
            "text/plain": [
              "<Figure size 432x288 with 2 Axes>"
            ]
          },
          "metadata": {
            "needs_background": "light"
          }
        }
      ]
    },
    {
      "cell_type": "code",
      "source": [
        "'''XGBOOST -> OVERFITTING\n",
        "EARLY STOPPING METHOD'''\n",
        "\n",
        "\n",
        "clf_model.fit(X_train_clf,y1_train, early_stopping_rounds=10, eval_metric=['error','logloss'], eval_set=eval_set)\n",
        "\n",
        "# retrieve performance metrics\n",
        "results = clf_model.evals_result()\n",
        "# plot learning curves\n",
        "pyplot.plot(results['validation_0']['logloss'], label='training loss')\n",
        "pyplot.plot(results['validation_1']['logloss'], label='validation loss')\n",
        "# show the legend\n",
        "pyplot.legend()\n",
        "pyplot.title('XGBoost Classification Loss')\n",
        "# show the plot\n",
        "pyplot.show()\n",
        "\n",
        "# plot classification error\n",
        "epochs = len(results['validation_0']['error'])\n",
        "x_axis = range(0, epochs)\n",
        "fig, ax = pyplot.subplots()\n",
        "ax.plot(x_axis, results['validation_0']['error'], label='Training error')\n",
        "ax.plot(x_axis, results['validation_1']['error'], label='Validation error')\n",
        "ax.legend()\n",
        "pyplot.ylabel('Classification Error')\n",
        "pyplot.title('XGBoost Classification Error')\n",
        "pyplot.show()"
      ],
      "metadata": {
        "colab": {
          "base_uri": "https://localhost:8080/",
          "height": 1000
        },
        "id": "mb74pIibZp-T",
        "outputId": "e4aae506-2851-4c88-d5f5-d7720e64cb9d"
      },
      "execution_count": 21,
      "outputs": [
        {
          "output_type": "stream",
          "name": "stdout",
          "text": [
            "[0]\tvalidation_0-error:0.291178\tvalidation_0-logloss:0.674519\tvalidation_1-error:0.290406\tvalidation_1-logloss:0.675703\n",
            "Multiple eval metrics have been passed: 'validation_1-logloss' will be used for early stopping.\n",
            "\n",
            "Will train until validation_1-logloss hasn't improved in 10 rounds.\n",
            "[1]\tvalidation_0-error:0.285701\tvalidation_0-logloss:0.658868\tvalidation_1-error:0.290406\tvalidation_1-logloss:0.660996\n",
            "[2]\tvalidation_0-error:0.279839\tvalidation_0-logloss:0.645478\tvalidation_1-error:0.288678\tvalidation_1-logloss:0.649485\n",
            "[3]\tvalidation_0-error:0.281568\tvalidation_0-logloss:0.634353\tvalidation_1-error:0.28522\tvalidation_1-logloss:0.638911\n",
            "[4]\tvalidation_0-error:0.282433\tvalidation_0-logloss:0.624564\tvalidation_1-error:0.286949\tvalidation_1-logloss:0.629997\n",
            "[5]\tvalidation_0-error:0.28349\tvalidation_0-logloss:0.615836\tvalidation_1-error:0.283492\tvalidation_1-logloss:0.622732\n",
            "[6]\tvalidation_0-error:0.284932\tvalidation_0-logloss:0.60844\tvalidation_1-error:0.28522\tvalidation_1-logloss:0.617603\n",
            "[7]\tvalidation_0-error:0.283682\tvalidation_0-logloss:0.60174\tvalidation_1-error:0.28522\tvalidation_1-logloss:0.613504\n",
            "[8]\tvalidation_0-error:0.283875\tvalidation_0-logloss:0.595631\tvalidation_1-error:0.282627\tvalidation_1-logloss:0.608624\n",
            "[9]\tvalidation_0-error:0.282049\tvalidation_0-logloss:0.590157\tvalidation_1-error:0.281763\tvalidation_1-logloss:0.604271\n",
            "[10]\tvalidation_0-error:0.284643\tvalidation_0-logloss:0.584785\tvalidation_1-error:0.280899\tvalidation_1-logloss:0.601751\n",
            "[11]\tvalidation_0-error:0.285412\tvalidation_0-logloss:0.580252\tvalidation_1-error:0.280035\tvalidation_1-logloss:0.599024\n",
            "[12]\tvalidation_0-error:0.28522\tvalidation_0-logloss:0.57598\tvalidation_1-error:0.284356\tvalidation_1-logloss:0.596991\n",
            "[13]\tvalidation_0-error:0.284067\tvalidation_0-logloss:0.572047\tvalidation_1-error:0.282627\tvalidation_1-logloss:0.595805\n",
            "[14]\tvalidation_0-error:0.283682\tvalidation_0-logloss:0.568147\tvalidation_1-error:0.281763\tvalidation_1-logloss:0.593609\n",
            "[15]\tvalidation_0-error:0.281953\tvalidation_0-logloss:0.564566\tvalidation_1-error:0.283492\tvalidation_1-logloss:0.59191\n",
            "[16]\tvalidation_0-error:0.281472\tvalidation_0-logloss:0.560835\tvalidation_1-error:0.283492\tvalidation_1-logloss:0.589918\n",
            "[17]\tvalidation_0-error:0.28128\tvalidation_0-logloss:0.557976\tvalidation_1-error:0.281763\tvalidation_1-logloss:0.589242\n",
            "[18]\tvalidation_0-error:0.281857\tvalidation_0-logloss:0.554997\tvalidation_1-error:0.281763\tvalidation_1-logloss:0.588194\n",
            "[19]\tvalidation_0-error:0.280607\tvalidation_0-logloss:0.552325\tvalidation_1-error:0.282627\tvalidation_1-logloss:0.586612\n",
            "[20]\tvalidation_0-error:0.280896\tvalidation_0-logloss:0.549952\tvalidation_1-error:0.280035\tvalidation_1-logloss:0.585745\n",
            "[21]\tvalidation_0-error:0.279839\tvalidation_0-logloss:0.546709\tvalidation_1-error:0.278306\tvalidation_1-logloss:0.584463\n",
            "[22]\tvalidation_0-error:0.27782\tvalidation_0-logloss:0.543919\tvalidation_1-error:0.280035\tvalidation_1-logloss:0.584185\n",
            "[23]\tvalidation_0-error:0.277628\tvalidation_0-logloss:0.541746\tvalidation_1-error:0.282627\tvalidation_1-logloss:0.584042\n",
            "[24]\tvalidation_0-error:0.276283\tvalidation_0-logloss:0.539498\tvalidation_1-error:0.281763\tvalidation_1-logloss:0.58343\n",
            "[25]\tvalidation_0-error:0.275995\tvalidation_0-logloss:0.538165\tvalidation_1-error:0.281763\tvalidation_1-logloss:0.583082\n",
            "[26]\tvalidation_0-error:0.274457\tvalidation_0-logloss:0.535263\tvalidation_1-error:0.278306\tvalidation_1-logloss:0.582014\n",
            "[27]\tvalidation_0-error:0.27388\tvalidation_0-logloss:0.532123\tvalidation_1-error:0.278306\tvalidation_1-logloss:0.581482\n",
            "[28]\tvalidation_0-error:0.272343\tvalidation_0-logloss:0.530432\tvalidation_1-error:0.280899\tvalidation_1-logloss:0.582004\n",
            "[29]\tvalidation_0-error:0.272343\tvalidation_0-logloss:0.529299\tvalidation_1-error:0.27917\tvalidation_1-logloss:0.581727\n",
            "[30]\tvalidation_0-error:0.270805\tvalidation_0-logloss:0.526865\tvalidation_1-error:0.278306\tvalidation_1-logloss:0.581612\n",
            "[31]\tvalidation_0-error:0.271286\tvalidation_0-logloss:0.525898\tvalidation_1-error:0.280899\tvalidation_1-logloss:0.581955\n",
            "[32]\tvalidation_0-error:0.269364\tvalidation_0-logloss:0.52356\tvalidation_1-error:0.280035\tvalidation_1-logloss:0.581268\n",
            "[33]\tvalidation_0-error:0.266961\tvalidation_0-logloss:0.521188\tvalidation_1-error:0.27917\tvalidation_1-logloss:0.581151\n",
            "[34]\tvalidation_0-error:0.266577\tvalidation_0-logloss:0.519525\tvalidation_1-error:0.27917\tvalidation_1-logloss:0.581088\n",
            "[35]\tvalidation_0-error:0.264175\tvalidation_0-logloss:0.516737\tvalidation_1-error:0.276577\tvalidation_1-logloss:0.580326\n",
            "[36]\tvalidation_0-error:0.261484\tvalidation_0-logloss:0.514416\tvalidation_1-error:0.278306\tvalidation_1-logloss:0.579856\n",
            "[37]\tvalidation_0-error:0.261484\tvalidation_0-logloss:0.513248\tvalidation_1-error:0.278306\tvalidation_1-logloss:0.57979\n",
            "[38]\tvalidation_0-error:0.260138\tvalidation_0-logloss:0.511601\tvalidation_1-error:0.27917\tvalidation_1-logloss:0.579768\n",
            "[39]\tvalidation_0-error:0.258697\tvalidation_0-logloss:0.509911\tvalidation_1-error:0.280035\tvalidation_1-logloss:0.579827\n",
            "[40]\tvalidation_0-error:0.257352\tvalidation_0-logloss:0.50816\tvalidation_1-error:0.281763\tvalidation_1-logloss:0.580323\n",
            "[41]\tvalidation_0-error:0.25543\tvalidation_0-logloss:0.506373\tvalidation_1-error:0.280035\tvalidation_1-logloss:0.580066\n",
            "[42]\tvalidation_0-error:0.253027\tvalidation_0-logloss:0.504845\tvalidation_1-error:0.27917\tvalidation_1-logloss:0.580172\n",
            "[43]\tvalidation_0-error:0.251105\tvalidation_0-logloss:0.502244\tvalidation_1-error:0.280035\tvalidation_1-logloss:0.58124\n",
            "[44]\tvalidation_0-error:0.249856\tvalidation_0-logloss:0.500937\tvalidation_1-error:0.27917\tvalidation_1-logloss:0.581246\n",
            "[45]\tvalidation_0-error:0.248126\tvalidation_0-logloss:0.499188\tvalidation_1-error:0.27917\tvalidation_1-logloss:0.581997\n",
            "[46]\tvalidation_0-error:0.245531\tvalidation_0-logloss:0.496624\tvalidation_1-error:0.280899\tvalidation_1-logloss:0.582753\n",
            "[47]\tvalidation_0-error:0.243802\tvalidation_0-logloss:0.4943\tvalidation_1-error:0.27917\tvalidation_1-logloss:0.582515\n",
            "[48]\tvalidation_0-error:0.24236\tvalidation_0-logloss:0.493096\tvalidation_1-error:0.278306\tvalidation_1-logloss:0.582753\n",
            "Stopping. Best iteration:\n",
            "[38]\tvalidation_0-error:0.260138\tvalidation_0-logloss:0.511601\tvalidation_1-error:0.27917\tvalidation_1-logloss:0.579768\n",
            "\n"
          ]
        },
        {
          "output_type": "display_data",
          "data": {
            "image/png": "[encoded data removed]",
            "text/plain": [
              "<Figure size 432x288 with 1 Axes>"
            ]
          },
          "metadata": {
            "needs_background": "light"
          }
        },
        {
          "output_type": "display_data",
          "data": {
            "image/png": "[encoded data removed]",
            "text/plain": [
              "<Figure size 432x288 with 1 Axes>"
            ]
          },
          "metadata": {
            "needs_background": "light"
          }
        }
      ]
    },
    {
      "cell_type": "code",
      "source": [
        "ClassificationReport = classification_report(y1_test, clf_model.predict(X_test_clf),target_names = target_names)\n",
        "plot_classification_report(ClassificationReport)\n",
        "print(ClassificationReport)"
      ],
      "metadata": {
        "colab": {
          "base_uri": "https://localhost:8080/",
          "height": 564
        },
        "id": "vuJ4NbmNZzCa",
        "outputId": "e8eecaf5-1317-4360-a987-01acba510ab6"
      },
      "execution_count": 22,
      "outputs": [
        {
          "output_type": "stream",
          "name": "stdout",
          "text": [
            "   real_news       0.27      0.02      0.03       917\n",
            "['real_news', '0.27', '0.02', '0.03', '917']\n",
            "[0.27, 0.02, 0.03]\n",
            "   fake_news       0.68      0.98      0.80      1974\n",
            "['fake_news', '0.68', '0.98', '0.80', '1974']\n",
            "[0.68, 0.98, 0.8]\n",
            "              precision    recall  f1-score   support\n",
            "\n",
            "   real_news       0.27      0.02      0.03       917\n",
            "   fake_news       0.68      0.98      0.80      1974\n",
            "\n",
            "    accuracy                           0.67      2891\n",
            "   macro avg       0.48      0.50      0.42      2891\n",
            "weighted avg       0.55      0.67      0.56      2891\n",
            "\n"
          ]
        },
        {
          "output_type": "display_data",
          "data": {
            "image/png": "[encoded data removed]",
            "text/plain": [
              "<Figure size 432x288 with 2 Axes>"
            ]
          },
          "metadata": {
            "needs_background": "light"
          }
        }
      ]
    },
    {
      "cell_type": "code",
      "source": [
        "create_tensorboard_visualizations(model, 'fn_embeddings_transeNo')"
      ],
      "metadata": {
        "id": "q2Nj6keF8b1w"
      },
      "execution_count": 23,
      "outputs": []
    }
  ]
}