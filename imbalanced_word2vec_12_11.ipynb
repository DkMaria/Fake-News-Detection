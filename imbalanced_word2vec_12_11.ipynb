{
  "nbformat": 4,
  "nbformat_minor": 0,
  "metadata": {
    "colab": {
      "name": "imbalanced_word2vec_12/11.ipynb",
      "provenance": [],
      "authorship_tag": "ABX9TyP+cPv2O9q/jONGpGPNxMKi",
      "include_colab_link": true
    },
    "kernelspec": {
      "name": "python3",
      "display_name": "Python 3"
    },
    "language_info": {
      "name": "python"
    }
  },
  "cells": [
    {
      "cell_type": "markdown",
      "metadata": {
        "id": "view-in-github",
        "colab_type": "text"
      },
      "source": [
        "<a href=\"https://colab.research.google.com/github/DkMaria/Fake-News-Detection/blob/main/imbalanced_word2vec_12_11.ipynb\" target=\"_parent\"><img src=\"https://colab.research.google.com/assets/colab-badge.svg\" alt=\"Open In Colab\"/></a>"
      ]
    },
    {
      "cell_type": "code",
      "metadata": {
        "colab": {
          "base_uri": "https://localhost:8080/"
        },
        "id": "Oo4D7niccm44",
        "outputId": "af9ebf20-735c-4ee0-a1f2-6a725f8877ec"
      },
      "source": [
        "from google.colab import drive\n",
        "drive.mount('/content/drive')"
      ],
      "execution_count": null,
      "outputs": [
        {
          "output_type": "stream",
          "name": "stdout",
          "text": [
            "Drive already mounted at /content/drive; to attempt to forcibly remount, call drive.mount(\"/content/drive\", force_remount=True).\n"
          ]
        }
      ]
    },
    {
      "cell_type": "code",
      "metadata": {
        "colab": {
          "base_uri": "https://localhost:8080/"
        },
        "id": "SXv7ZCxScptU",
        "outputId": "c52c3299-2503-4bd5-e7eb-124a00f89b46"
      },
      "source": [
        "# verify GPU availability\n",
        "import tensorflow as tf\n",
        "\n",
        "device_name = tf.test.gpu_device_name()\n",
        "if device_name != '/device:GPU:0':\n",
        "  raise SystemError('GPU device not found')\n",
        "print('Found GPU at: {}'.format(device_name))"
      ],
      "execution_count": null,
      "outputs": [
        {
          "output_type": "stream",
          "name": "stdout",
          "text": [
            "Found GPU at: /device:GPU:0\n"
          ]
        }
      ]
    },
    {
      "cell_type": "code",
      "metadata": {
        "id": "Nypg5oeucrob"
      },
      "source": [
        "import pandas as pd\n",
        "from matplotlib import pyplot as plt\n",
        "# Download following if not downloaded in local machine\n",
        "import nltk\n",
        "#nltk.download('stopwords')\n",
        "#nltk.download('punkt')\n",
        "from nltk.corpus import stopwords\n",
        "from nltk.stem import WordNetLemmatizer\n",
        "import gensim\n",
        "from tensorflow.keras.preprocessing.text import Tokenizer\n",
        "import numpy as np\n",
        "from tensorflow.keras.preprocessing.sequence import pad_sequences\n",
        "from tensorflow.keras.models import Sequential\n",
        "from tensorflow.keras.layers import Dense, Embedding, LSTM, Conv1D, MaxPool1D\n",
        "from sklearn.model_selection import train_test_split\n",
        "from sklearn.metrics import classification_report, accuracy_score\n",
        "from wordcloud import WordCloud\n",
        "import imblearn\n",
        "from collections import Counter"
      ],
      "execution_count": null,
      "outputs": []
    },
    {
      "cell_type": "code",
      "metadata": {
        "colab": {
          "base_uri": "https://localhost:8080/"
        },
        "id": "fYrbKDVfcult",
        "outputId": "3507ca1a-9c2c-4e70-ef32-4f5d0da82591"
      },
      "source": [
        "import nltk\n",
        "nltk.download('stopwords')\n",
        "nltk.download('punkt')"
      ],
      "execution_count": null,
      "outputs": [
        {
          "output_type": "stream",
          "name": "stdout",
          "text": [
            "[nltk_data] Downloading package stopwords to /root/nltk_data...\n",
            "[nltk_data]   Package stopwords is already up-to-date!\n",
            "[nltk_data] Downloading package punkt to /root/nltk_data...\n",
            "[nltk_data]   Package punkt is already up-to-date!\n"
          ]
        },
        {
          "output_type": "execute_result",
          "data": {
            "text/plain": [
              "True"
            ]
          },
          "metadata": {},
          "execution_count": 4
        }
      ]
    },
    {
      "cell_type": "code",
      "metadata": {
        "colab": {
          "base_uri": "https://localhost:8080/",
          "height": 491
        },
        "id": "xH0-fT6Tcw9I",
        "outputId": "2415d41c-90b6-4366-dd45-6709bf4d7cb9"
      },
      "source": [
        "# read csv files which contains all TRUE and all FALSE claims\n",
        "true = pd.read_csv('/content/drive/MyDrive/true28.csv', delimiter=\",\")\n",
        "df_true = pd.DataFrame(true, columns=['headline', 'text', 'keywords', 'ratingName'])\n",
        "df_true['label'] = 0\n",
        "# print('TRUE: ', df_true)\n",
        "# print(len(df_true)) # 4113\n",
        "\n",
        "\n",
        "false = pd.read_csv('/content/drive/MyDrive/false05.csv', delimiter=\",\", encoding='mac_roman')\n",
        "df_false = pd.DataFrame(false, columns=['headline', 'text', 'keywords', 'ratingName'])\n",
        "df_false['label'] = 1\n",
        "print('FALSE: ', df_false)\n",
        "# print(len(df_false)) #10000\n",
        "\n",
        "data = pd.concat([df_true, df_false])\n",
        "labels = data['label']\n",
        "# print(data) # 14113\n",
        "# print(data['label'].value_counts())\n",
        "# 1: 10000\n",
        "# 0: 4113\n",
        "\n",
        "# check if the dataset is well balanced\n",
        "label_size = [4113, 10000]\n",
        "plt.pie(label_size, explode=[0.1, 0.1], colors=['firebrick', 'navy'], startangle=90, shadow=True,\n",
        "        labels=['True', 'Fake'], autopct='%1.1f%%')\n",
        "plt.show()\n",
        "\n",
        "# shuffle the dataset\n",
        "data = data.sample(frac=1)\n",
        "# print(data.head(20))"
      ],
      "execution_count": null,
      "outputs": [
        {
          "output_type": "stream",
          "name": "stdout",
          "text": [
            "FALSE:                                                 headline  ... label\n",
            "0                           Who Stripped Jessica Rabbit  ...     1\n",
            "1            Translation of Turkish Airline Regulations  ...     1\n",
            "2     The health care law a \"\"job killer\"\"? The evid...  ...     1\n",
            "3     FALSE: Trump Supporters Misspelled His Name wi...  ...     1\n",
            "4                      Tom Daschle Pledge of Allegiance  ...     1\n",
            "...                                                 ...  ...   ...\n",
            "9995  Rauner's Chicago schools \"\"bailout\"\" claim roo...  ...     1\n",
            "9996  Did President Trump Sign an Executive Order Na...  ...     1\n",
            "9997                                One Pound of Mofeen  ...     1\n",
            "9998  No, Trump didn't say illegal immigration has b...  ...     1\n",
            "9999   Is This a Poster for a New ‚ÄòTwilight‚Äô Movie?  ...     1\n",
            "\n",
            "[10000 rows x 5 columns]\n"
          ]
        },
        {
          "output_type": "display_data",
          "data": {
            "image/png": "[encoded data removed]",
            "text/plain": [
              "<Figure size 432x288 with 1 Axes>"
            ]
          },
          "metadata": {}
        }
      ]
    },
    {
      "cell_type": "code",
      "metadata": {
        "colab": {
          "base_uri": "https://localhost:8080/"
        },
        "id": "nOcL2ZzJczbJ",
        "outputId": "1248d939-71c7-4b28-d038-f1029542ce0f"
      },
      "source": [
        "label = data['label']\n",
        "data.info()"
      ],
      "execution_count": null,
      "outputs": [
        {
          "output_type": "stream",
          "name": "stdout",
          "text": [
            "<class 'pandas.core.frame.DataFrame'>\n",
            "Int64Index: 14113 entries, 9097 to 3175\n",
            "Data columns (total 5 columns):\n",
            " #   Column      Non-Null Count  Dtype \n",
            "---  ------      --------------  ----- \n",
            " 0   headline    14113 non-null  object\n",
            " 1   text        14113 non-null  object\n",
            " 2   keywords    14113 non-null  object\n",
            " 3   ratingName  14113 non-null  bool  \n",
            " 4   label       14113 non-null  int64 \n",
            "dtypes: bool(1), int64(1), object(3)\n",
            "memory usage: 565.1+ KB\n"
          ]
        }
      ]
    },
    {
      "cell_type": "code",
      "metadata": {
        "colab": {
          "base_uri": "https://localhost:8080/"
        },
        "id": "uau3b97Jc-0N",
        "outputId": "8ba57f53-0228-479d-b11a-8af5d913af37"
      },
      "source": [
        "# class count\n",
        "true_count, false_count = data['label'].value_counts()\n",
        "# Separate class\n",
        "true = data[data['label'] == 0] #true claims\n",
        "false = data[data['label'] == 1]# print the shape of the class #false claims\n",
        "print('true 0:', true.shape)\n",
        "print('false 1:', false.shape)"
      ],
      "execution_count": null,
      "outputs": [
        {
          "output_type": "stream",
          "name": "stdout",
          "text": [
            "true 0: (4113, 5)\n",
            "false 1: (10000, 5)\n"
          ]
        }
      ]
    },
    {
      "cell_type": "code",
      "metadata": {
        "colab": {
          "base_uri": "https://localhost:8080/",
          "height": 347
        },
        "id": "w21iWR-3ZHB_",
        "outputId": "f785ef77-d6fc-41e7-9e39-f301a7c08b3a"
      },
      "source": [
        "'''Undersampling can be defined as removing some observations of the majority class. This is done until the majority and \n",
        "minority class is balanced out'''\n",
        "false_under = false.sample(false_count)\n",
        "#print(class_1_under)\n",
        "\n",
        "data = pd.concat([false_under, true], axis=0)\n",
        "\n",
        "print(\"total class of 1 and 0:\",data['label'].value_counts())# plot the count after under-sampeling\n",
        "data['label'].value_counts().plot(kind='bar', title='count (target)')"
      ],
      "execution_count": null,
      "outputs": [
        {
          "output_type": "stream",
          "name": "stdout",
          "text": [
            "total class of 1 and 0: 1    4113\n",
            "0    4113\n",
            "Name: label, dtype: int64\n"
          ]
        },
        {
          "output_type": "execute_result",
          "data": {
            "text/plain": [
              "<matplotlib.axes._subplots.AxesSubplot at 0x7fdc4f5cac10>"
            ]
          },
          "metadata": {},
          "execution_count": 8
        },
        {
          "output_type": "display_data",
          "data": {
            "image/png": "[encoded data removed]",
            "text/plain": [
              "<Figure size 432x288 with 1 Axes>"
            ]
          },
          "metadata": {
            "needs_background": "light"
          }
        }
      ]
    },
    {
      "cell_type": "code",
      "metadata": {
        "colab": {
          "base_uri": "https://localhost:8080/",
          "height": 53
        },
        "id": "1cu3nRuYdHzx",
        "outputId": "620f5aee-7b07-472b-f7c8-b8cd41499545"
      },
      "source": [
        "'''Oversampling can be defined as adding more copies to the minority class. Oversampling can be a good choice when \n",
        "   you don’t have a ton of data to work with. A con to consider when undersampling is that it can cause overfitting \n",
        "   and poor generalization to your test set'''\n",
        "'''true_over = true.sample(true_count, replace=True)\n",
        "\n",
        "data = pd.concat([true_over, false], axis=0)\n",
        "\n",
        "print(\"total class of 1 and 0:\",data['label'].value_counts())# plot the count after under-sampeling\n",
        "data['label'].value_counts().plot(kind='bar', title='count (target)')'''"
      ],
      "execution_count": null,
      "outputs": [
        {
          "output_type": "execute_result",
          "data": {
            "application/vnd.google.colaboratory.intrinsic+json": {
              "type": "string"
            },
            "text/plain": [
              "'true_over = true.sample(true_count, replace=True)\\n\\ndata = pd.concat([true_over, false], axis=0)\\n\\nprint(\"total class of 1 and 0:\",data[\\'label\\'].value_counts())# plot the count after under-sampeling\\ndata[\\'label\\'].value_counts().plot(kind=\\'bar\\', title=\\'count (target)\\')'"
            ]
          },
          "metadata": {},
          "execution_count": 9
        }
      ]
    },
    {
      "cell_type": "code",
      "metadata": {
        "colab": {
          "base_uri": "https://localhost:8080/"
        },
        "id": "0CSFSBpodxsG",
        "outputId": "2ef427ae-4f41-4a87-bbd5-094d8722788d"
      },
      "source": [
        "data.info()"
      ],
      "execution_count": null,
      "outputs": [
        {
          "output_type": "stream",
          "name": "stdout",
          "text": [
            "<class 'pandas.core.frame.DataFrame'>\n",
            "Int64Index: 8226 entries, 5509 to 3175\n",
            "Data columns (total 5 columns):\n",
            " #   Column      Non-Null Count  Dtype \n",
            "---  ------      --------------  ----- \n",
            " 0   headline    8226 non-null   object\n",
            " 1   text        8226 non-null   object\n",
            " 2   keywords    8226 non-null   object\n",
            " 3   ratingName  8226 non-null   bool  \n",
            " 4   label       8226 non-null   int64 \n",
            "dtypes: bool(1), int64(1), object(3)\n",
            "memory usage: 329.4+ KB\n"
          ]
        }
      ]
    },
    {
      "cell_type": "code",
      "metadata": {
        "id": "LvelehvEgWJX"
      },
      "source": [
        "target = data['label']"
      ],
      "execution_count": null,
      "outputs": []
    },
    {
      "cell_type": "code",
      "metadata": {
        "id": "jOoP1W8UdQpv"
      },
      "source": [
        "y = data[\"text\"].values\n",
        "#Converting X to format acceptable by gensim, removing annd punctuation stopwords in the process\n",
        "X = []\n",
        "stop_words = set(nltk.corpus.stopwords.words(\"english\"))\n",
        "tokenizer = nltk.tokenize.RegexpTokenizer(r'\\w+')\n",
        "for par in data[\"text\"].values:\n",
        "    tmp = []\n",
        "    sentences = nltk.sent_tokenize(par)\n",
        "    for sent in sentences:\n",
        "        sent = sent.lower()\n",
        "        tokens = tokenizer.tokenize(sent)\n",
        "        filtered_words = [w.strip() for w in tokens if w not in stop_words and len(w) > 1]\n",
        "        tmp.extend(filtered_words)\n",
        "    X.append(tmp)\n",
        "\n",
        "del data"
      ],
      "execution_count": null,
      "outputs": []
    },
    {
      "cell_type": "code",
      "metadata": {
        "id": "E4NykJ82ethI"
      },
      "source": [
        "len(X)"
      ],
      "execution_count": null,
      "outputs": []
    },
    {
      "cell_type": "markdown",
      "metadata": {
        "id": "qW0ub8rFezD8"
      },
      "source": [
        "Word2Vec implementation\n",
        "Word2Vec is one of the most popular technique to learn word embeddings using shallow neural network. It was developed by Tomas Mikolov in 2013 at Google.\n",
        "\n",
        "Word embedding is the most popular representation of document vocabulary. It is capable of capturing context of a word in a document, semantic and syntactic similarity, relation with other words, etc.\n"
      ]
    },
    {
      "cell_type": "code",
      "metadata": {
        "id": "5JycnQWke0sc"
      },
      "source": [
        "#create and check our own Word2Vec model with gensim\n",
        "#Dimension of vectors we are generating\n",
        "EMBEDDING_DIM = 100\n",
        "\n",
        "#Creating Word Vectors by Word2Vec Method (takes time...)\n",
        "w2v_model = gensim.models.Word2Vec(sentences=X, size=EMBEDDING_DIM, window=5, min_count=1)"
      ],
      "execution_count": null,
      "outputs": []
    },
    {
      "cell_type": "code",
      "metadata": {
        "colab": {
          "base_uri": "https://localhost:8080/"
        },
        "id": "taMfWpyCe6bQ",
        "outputId": "0674a789-abf8-4a58-e28f-6908c4735185"
      },
      "source": [
        "#vocab size\n",
        "len(w2v_model.wv.vocab)"
      ],
      "execution_count": null,
      "outputs": [
        {
          "output_type": "execute_result",
          "data": {
            "text/plain": [
              "14754"
            ]
          },
          "metadata": {},
          "execution_count": 15
        }
      ]
    },
    {
      "cell_type": "code",
      "metadata": {
        "colab": {
          "base_uri": "https://localhost:8080/"
        },
        "id": "ZkIsOpwxe9Er",
        "outputId": "f2d8c5f8-87a8-4cc8-bf37-82c310d4ce71"
      },
      "source": [
        "#see a sample vector for random word, lets say health\n",
        "w2v_model[\"health\"]"
      ],
      "execution_count": null,
      "outputs": [
        {
          "output_type": "stream",
          "name": "stderr",
          "text": [
            "/usr/local/lib/python3.7/dist-packages/ipykernel_launcher.py:2: DeprecationWarning: Call to deprecated `__getitem__` (Method will be removed in 4.0.0, use self.wv.__getitem__() instead).\n",
            "  \n"
          ]
        },
        {
          "output_type": "execute_result",
          "data": {
            "text/plain": [
              "array([-0.33335397,  0.03902758, -0.6460469 , -0.44018677, -0.22740674,\n",
              "        0.06849106,  0.60533786,  0.00134206, -0.23079404, -0.08126872,\n",
              "       -0.42225954,  0.23983958, -0.19533892,  0.36231148, -0.23459122,\n",
              "       -0.312573  , -0.15515046, -0.24280843,  0.013661  ,  0.37562025,\n",
              "        0.05169209, -0.42787465, -0.16991161,  0.28508008, -0.21537372,\n",
              "        0.24171318,  0.12868705, -0.03319954,  0.04874913, -0.7380879 ,\n",
              "        0.09117217,  0.52294534,  0.14916714, -0.10097983,  0.08430981,\n",
              "        0.29673496, -0.09322014,  0.00121719,  0.2875889 , -0.16156532,\n",
              "        0.62578446, -0.6580366 , -0.11199751,  0.02593839,  0.04568008,\n",
              "       -0.19350226, -0.76453215,  0.1697544 ,  0.13049729,  0.27994826,\n",
              "        0.13943397,  0.1761553 , -0.04204299,  0.7487399 ,  0.06765334,\n",
              "        0.02081623,  0.5520353 , -0.23482962, -0.17509715,  0.6214328 ,\n",
              "        0.67082196, -0.4237635 , -0.28527847,  0.68744516,  0.13894665,\n",
              "       -0.3268612 ,  0.7594661 ,  0.45862907, -0.07251662,  0.01183889,\n",
              "        0.411025  , -0.23900709,  0.51619107,  0.5501602 ,  0.48200086,\n",
              "       -0.2466324 , -0.43497467, -0.29936206,  0.20980774,  0.26792073,\n",
              "        0.02162796,  0.07160963,  0.30333322,  0.26515803, -0.1333003 ,\n",
              "        0.2029536 ,  0.1759748 ,  0.08258473,  0.45291957, -0.19636296,\n",
              "       -0.35755453,  0.1569789 ,  0.250729  ,  0.38215607,  0.08640493,\n",
              "       -0.27815935,  0.05612557, -0.19838314, -0.22763509, -0.00621169],\n",
              "      dtype=float32)"
            ]
          },
          "metadata": {},
          "execution_count": 16
        }
      ]
    },
    {
      "cell_type": "code",
      "metadata": {
        "colab": {
          "base_uri": "https://localhost:8080/"
        },
        "id": "VXIrgsoUfAaa",
        "outputId": "741f36e0-5613-4b87-ad29-327df045c5d7"
      },
      "source": [
        "#Feeding US Presidents\n",
        "w2v_model.wv.most_similar(positive=[\"trump\",\"obama\", \"clinton\"])"
      ],
      "execution_count": null,
      "outputs": [
        {
          "output_type": "execute_result",
          "data": {
            "text/plain": [
              "[('president', 0.9992349743843079),\n",
              " ('says', 0.9989332556724548),\n",
              " ('said', 0.9988917112350464),\n",
              " ('campaign', 0.9988412261009216),\n",
              " ('bush', 0.9988091588020325),\n",
              " ('former', 0.9987893104553223),\n",
              " ('wants', 0.998529851436615),\n",
              " ('first', 0.9984986782073975),\n",
              " ('office', 0.9984872937202454),\n",
              " ('would', 0.9984787702560425)]"
            ]
          },
          "metadata": {},
          "execution_count": 17
        }
      ]
    },
    {
      "cell_type": "code",
      "metadata": {
        "id": "2uAfiMYLfFvB"
      },
      "source": [
        "# Tokenizing Text -> Repsesenting each word by a number\n",
        "# Mapping of orginal word to number is preserved in word_index property of tokenizer\n",
        "\n",
        "#Tokenized applies basic processing like changing it yo lower case, explicitely setting that as False\n",
        "tokenizer = Tokenizer()\n",
        "tokenizer.fit_on_texts(X)\n",
        "\n",
        "X = tokenizer.texts_to_sequences(X)"
      ],
      "execution_count": null,
      "outputs": []
    },
    {
      "cell_type": "code",
      "metadata": {
        "colab": {
          "base_uri": "https://localhost:8080/"
        },
        "id": "TUp4xaC7fJWY",
        "outputId": "6061dd9e-a188-4fc3-ad0c-75fba76cf7f3"
      },
      "source": [
        "# lets check the first 10 words of first news\n",
        "#every word has been represented with a number\n",
        "X[0][:10]"
      ],
      "execution_count": null,
      "outputs": [
        {
          "output_type": "execute_result",
          "data": {
            "text/plain": [
              "[279, 436, 744, 1071, 4186, 3436, 6, 704, 2537, 127]"
            ]
          },
          "metadata": {},
          "execution_count": 19
        }
      ]
    },
    {
      "cell_type": "code",
      "metadata": {
        "colab": {
          "base_uri": "https://localhost:8080/"
        },
        "id": "5r7Z-rdEfLwW",
        "outputId": "01dd8d9e-0cda-4b75-b250-a8b99425288a"
      },
      "source": [
        "#Lets check few word to numerical replesentation\n",
        "#Mapping is preserved in dictionary -> word_index property of instance\n",
        "word_index = tokenizer.word_index\n",
        "for word, num in word_index.items():\n",
        "    print(f\"{word} -> {num}\")\n",
        "    if num == 10:\n",
        "        break  "
      ],
      "execution_count": null,
      "outputs": [
        {
          "output_type": "stream",
          "name": "stdout",
          "text": [
            "says -> 1\n",
            "president -> 2\n",
            "shows -> 3\n",
            "trump -> 4\n",
            "obama -> 5\n",
            "percent -> 6\n",
            "state -> 7\n",
            "äôs -> 8\n",
            "people -> 9\n",
            "photograph -> 10\n"
          ]
        }
      ]
    },
    {
      "cell_type": "markdown",
      "metadata": {
        "id": "71nJeSZ8fUrJ"
      },
      "source": [
        "We can pass numerical representation of words into neural network.\n",
        "\n",
        "We can use Many-To-One (Sequence-To-Word) Model of RNN, as we have many words in news as input and one output ie Probability of being Real.\n",
        "\n",
        "For Many-To-One model, lets use a fixed size input."
      ]
    },
    {
      "cell_type": "code",
      "metadata": {
        "colab": {
          "base_uri": "https://localhost:8080/",
          "height": 265
        },
        "id": "mAYNfrkMfWJF",
        "outputId": "feb43b14-2c92-42a0-9638-5a0a56a09246"
      },
      "source": [
        "# For determining size of input...\n",
        "\n",
        "# Making histogram for no of words in news shows that most news article are under 20 words.\n",
        "# Lets keep each news small and truncate all news to 20 while tokenizing\n",
        "plt.hist([len(x) for x in X], bins=500)\n",
        "plt.show()"
      ],
      "execution_count": null,
      "outputs": [
        {
          "output_type": "display_data",
          "data": {
            "image/png": "[encoded data removed]",
            "text/plain": [
              "<Figure size 432x288 with 1 Axes>"
            ]
          },
          "metadata": {
            "needs_background": "light"
          }
        }
      ]
    },
    {
      "cell_type": "code",
      "metadata": {
        "colab": {
          "base_uri": "https://localhost:8080/"
        },
        "id": "dptnRqbDfZ2N",
        "outputId": "c0ee80a0-e7eb-4bf4-dd3f-0a6ee8b1fcb6"
      },
      "source": [
        "nos = np.array([len(x) for x in X])\n",
        "len(nos[nos  < 20])"
      ],
      "execution_count": null,
      "outputs": [
        {
          "output_type": "execute_result",
          "data": {
            "text/plain": [
              "7970"
            ]
          },
          "metadata": {},
          "execution_count": 22
        }
      ]
    },
    {
      "cell_type": "code",
      "metadata": {
        "id": "Qn1cCuwHfdJC"
      },
      "source": [
        "#Lets keep all news to 20, add padding to news with less than 20 words and truncating long ones\n",
        "maxlen = 20 \n",
        "\n",
        "#Making all news of size maxlen defined above\n",
        "X = pad_sequences(X, maxlen=maxlen)"
      ],
      "execution_count": null,
      "outputs": []
    },
    {
      "cell_type": "code",
      "metadata": {
        "colab": {
          "base_uri": "https://localhost:8080/"
        },
        "id": "alIHRfodfgZK",
        "outputId": "681c1a73-8bfc-453c-a6d9-8ff31e4cb197"
      },
      "source": [
        "#all news has 20 words (in numerical form now). If they had less words, they have been padded with 0\n",
        "# 0 is not associated to any word, as mapping of words started from 1\n",
        "# 0 will also be used later, if unknows word is encountered in test set\n",
        "len(X[0])"
      ],
      "execution_count": null,
      "outputs": [
        {
          "output_type": "execute_result",
          "data": {
            "text/plain": [
              "20"
            ]
          },
          "metadata": {},
          "execution_count": 24
        }
      ]
    },
    {
      "cell_type": "code",
      "metadata": {
        "id": "lyq2cn2Efi_Z"
      },
      "source": [
        "# Adding 1 because of reserved 0 index\n",
        "# Embedding Layer creates one more vector for \"UNKNOWN\" words, or padded words (0s). This Vector is filled with zeros.\n",
        "# Thus our vocab size inceeases by 1\n",
        "vocab_size = len(tokenizer.word_index) + 1"
      ],
      "execution_count": null,
      "outputs": []
    },
    {
      "cell_type": "code",
      "metadata": {
        "id": "BJBFOSrofmcM"
      },
      "source": [
        "# Function to create weight matrix from word2vec gensim model\n",
        "def get_weight_matrix(model, vocab):\n",
        "    # total vocabulary size plus 0 for unknown words\n",
        "    vocab_size = len(vocab) + 1\n",
        "    # define weight matrix dimensions with all 0\n",
        "    weight_matrix = np.zeros((vocab_size, EMBEDDING_DIM))\n",
        "    # step vocab, store vectors using the Tokenizer's integer mapping\n",
        "    for word, i in vocab.items():\n",
        "        weight_matrix[i] = model[word]\n",
        "    return weight_matrix"
      ],
      "execution_count": null,
      "outputs": []
    },
    {
      "cell_type": "code",
      "metadata": {
        "colab": {
          "base_uri": "https://localhost:8080/"
        },
        "id": "1lM6wr5LfrFQ",
        "outputId": "379fbe07-55d8-44ed-e4ae-a8df2cb57ec3"
      },
      "source": [
        "#Getting embedding vectors from word2vec and usings it as weights of non-trainable keras embedding layer\n",
        "embedding_vectors = get_weight_matrix(w2v_model, word_index)"
      ],
      "execution_count": null,
      "outputs": [
        {
          "output_type": "stream",
          "name": "stderr",
          "text": [
            "/usr/local/lib/python3.7/dist-packages/ipykernel_launcher.py:9: DeprecationWarning: Call to deprecated `__getitem__` (Method will be removed in 4.0.0, use self.wv.__getitem__() instead).\n",
            "  if __name__ == '__main__':\n"
          ]
        }
      ]
    },
    {
      "cell_type": "code",
      "metadata": {
        "colab": {
          "base_uri": "https://localhost:8080/"
        },
        "id": "2VKY5SyAfPKD",
        "outputId": "36c693b2-ba0b-425d-df32-7092e2aa5814"
      },
      "source": [
        "print(embedding_vectors)"
      ],
      "execution_count": null,
      "outputs": [
        {
          "output_type": "stream",
          "name": "stdout",
          "text": [
            "[[ 0.00000000e+00  0.00000000e+00  0.00000000e+00 ...  0.00000000e+00\n",
            "   0.00000000e+00  0.00000000e+00]\n",
            " [-3.77612978e-01  7.79598206e-03 -6.88280702e-01 ... -2.36688063e-01\n",
            "  -2.34709844e-01  9.38635319e-03]\n",
            " [-3.98041010e-01 -5.09980647e-03 -6.70391798e-01 ... -2.23882765e-01\n",
            "  -2.32518569e-01  3.81010287e-02]\n",
            " ...\n",
            " [-6.81792293e-03 -2.29077786e-03 -6.12452952e-03 ... -2.50740675e-03\n",
            "  -4.54886147e-04  3.86878906e-04]\n",
            " [-3.54304095e-03  3.44530959e-03 -9.83652100e-03 ... -1.76029536e-03\n",
            "  -6.56212308e-03  2.25547678e-03]\n",
            " [-3.89511511e-03 -3.05662607e-03 -2.68135383e-03 ...  1.70982454e-03\n",
            "  -3.46021634e-03  9.46682179e-04]]\n"
          ]
        }
      ]
    },
    {
      "cell_type": "code",
      "metadata": {
        "id": "c0NIoOnjfyPz"
      },
      "source": [
        "#Defining Neural Network\n",
        "model = Sequential()\n",
        "#Non-trainable embeddidng layer\n",
        "model.add(Embedding(vocab_size, output_dim=EMBEDDING_DIM, weights=[embedding_vectors], input_length=maxlen, trainable=False))\n",
        "#LSTM \n",
        "model.add(LSTM(units=128))\n",
        "model.add(Dense(1, activation='sigmoid'))\n",
        "model.compile(optimizer='adam', loss='binary_crossentropy', metrics=['acc'])\n",
        "\n",
        "del embedding_vectors"
      ],
      "execution_count": null,
      "outputs": []
    },
    {
      "cell_type": "code",
      "metadata": {
        "colab": {
          "base_uri": "https://localhost:8080/"
        },
        "id": "sSKzXD0Mf03L",
        "outputId": "e62753d7-0f5f-4862-9497-6d6ba965c064"
      },
      "source": [
        "model.summary()"
      ],
      "execution_count": null,
      "outputs": [
        {
          "output_type": "stream",
          "name": "stdout",
          "text": [
            "Model: \"sequential\"\n",
            "_________________________________________________________________\n",
            " Layer (type)                Output Shape              Param #   \n",
            "=================================================================\n",
            " embedding (Embedding)       (None, 20, 100)           1475500   \n",
            "                                                                 \n",
            " lstm (LSTM)                 (None, 128)               117248    \n",
            "                                                                 \n",
            " dense (Dense)               (None, 1)                 129       \n",
            "                                                                 \n",
            "=================================================================\n",
            "Total params: 1,592,877\n",
            "Trainable params: 117,377\n",
            "Non-trainable params: 1,475,500\n",
            "_________________________________________________________________\n"
          ]
        }
      ]
    },
    {
      "cell_type": "code",
      "metadata": {
        "id": "ZOPqzALMf2WB"
      },
      "source": [
        "x_train, x_test, y_train, y_test = train_test_split(X, target, test_size =0.20, random_state=4)"
      ],
      "execution_count": null,
      "outputs": []
    },
    {
      "cell_type": "code",
      "metadata": {
        "colab": {
          "base_uri": "https://localhost:8080/"
        },
        "id": "FMKOKNhqbGOJ",
        "outputId": "899a09b7-60c4-4ae5-b6a0-a80e55dfd5c0"
      },
      "source": [
        "len(x_train), len(x_test)"
      ],
      "execution_count": null,
      "outputs": [
        {
          "output_type": "execute_result",
          "data": {
            "text/plain": [
              "(6580, 1646)"
            ]
          },
          "metadata": {},
          "execution_count": 44
        }
      ]
    },
    {
      "cell_type": "code",
      "metadata": {
        "colab": {
          "base_uri": "https://localhost:8080/"
        },
        "id": "yxdzKef6g7G2",
        "outputId": "dacb3914-0876-40e3-b69e-86555de73d8f"
      },
      "source": [
        "model.fit(x_train, y_train, epochs=10)"
      ],
      "execution_count": null,
      "outputs": [
        {
          "output_type": "stream",
          "name": "stdout",
          "text": [
            "Epoch 1/10\n",
            "206/206 [==============================] - 2s 10ms/step - loss: 0.6778 - acc: 0.5685\n",
            "Epoch 2/10\n",
            "206/206 [==============================] - 2s 9ms/step - loss: 0.6738 - acc: 0.5701\n",
            "Epoch 3/10\n",
            "206/206 [==============================] - 2s 9ms/step - loss: 0.6742 - acc: 0.5767\n",
            "Epoch 4/10\n",
            "206/206 [==============================] - 2s 9ms/step - loss: 0.6716 - acc: 0.5845\n",
            "Epoch 5/10\n",
            "206/206 [==============================] - 2s 10ms/step - loss: 0.6673 - acc: 0.5860\n",
            "Epoch 6/10\n",
            "206/206 [==============================] - 2s 9ms/step - loss: 0.6675 - acc: 0.5886\n",
            "Epoch 7/10\n",
            "206/206 [==============================] - 2s 9ms/step - loss: 0.6645 - acc: 0.5900\n",
            "Epoch 8/10\n",
            "206/206 [==============================] - 2s 9ms/step - loss: 0.6637 - acc: 0.5939\n",
            "Epoch 9/10\n",
            "206/206 [==============================] - 2s 9ms/step - loss: 0.6621 - acc: 0.5979\n",
            "Epoch 10/10\n",
            "206/206 [==============================] - 2s 9ms/step - loss: 0.6599 - acc: 0.5950\n"
          ]
        },
        {
          "output_type": "execute_result",
          "data": {
            "text/plain": [
              "<keras.callbacks.History at 0x7fdc44b7b350>"
            ]
          },
          "metadata": {},
          "execution_count": 45
        }
      ]
    },
    {
      "cell_type": "code",
      "metadata": {
        "id": "VuisYBy7hO-n"
      },
      "source": [
        "#Prediction is in probability of news being true, so converting into classes\n",
        "# Class 1 (Fake) if predicted prob < 0.5, else class 0 (Real)\n",
        "y_pred = (model.predict(x_test) >= 0.5).astype(\"int\")"
      ],
      "execution_count": null,
      "outputs": []
    },
    {
      "cell_type": "code",
      "metadata": {
        "colab": {
          "base_uri": "https://localhost:8080/"
        },
        "id": "rTrBqn2hhSHb",
        "outputId": "4c5d2af5-4f23-4c39-eb8a-21761e254ee0"
      },
      "source": [
        "accuracy_score(y_test, y_pred)"
      ],
      "execution_count": null,
      "outputs": [
        {
          "output_type": "execute_result",
          "data": {
            "text/plain": [
              "0.5729040097205347"
            ]
          },
          "metadata": {},
          "execution_count": 47
        }
      ]
    },
    {
      "cell_type": "code",
      "metadata": {
        "colab": {
          "base_uri": "https://localhost:8080/"
        },
        "id": "uGJDoqyfhUig",
        "outputId": "61c1644d-b969-4273-c542-eba0e249e171"
      },
      "source": [
        "print(classification_report(y_test, y_pred))"
      ],
      "execution_count": null,
      "outputs": [
        {
          "output_type": "stream",
          "name": "stdout",
          "text": [
            "              precision    recall  f1-score   support\n",
            "\n",
            "           0       0.61      0.52      0.56       862\n",
            "           1       0.54      0.63      0.58       784\n",
            "\n",
            "    accuracy                           0.57      1646\n",
            "   macro avg       0.58      0.58      0.57      1646\n",
            "weighted avg       0.58      0.57      0.57      1646\n",
            "\n"
          ]
        }
      ]
    }
  ]
}