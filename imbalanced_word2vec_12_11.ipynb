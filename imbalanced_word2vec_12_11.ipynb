{
  "nbformat": 4,
  "nbformat_minor": 0,
  "metadata": {
    "colab": {
      "name": "imbalanced_word2vec_12/11.ipynb",
      "provenance": [],
      "collapsed_sections": [],
      "authorship_tag": "ABX9TyOjnTK4NSyM++c64nfuLZV+",
      "include_colab_link": true
    },
    "kernelspec": {
      "name": "python3",
      "display_name": "Python 3"
    },
    "language_info": {
      "name": "python"
    },
    "accelerator": "GPU"
  },
  "cells": [
    {
      "cell_type": "markdown",
      "metadata": {
        "id": "view-in-github",
        "colab_type": "text"
      },
      "source": [
        "<a href=\"https://colab.research.google.com/github/DkMaria/Fake-News-Detection/blob/main/imbalanced_word2vec_12_11.ipynb\" target=\"_parent\"><img src=\"https://colab.research.google.com/assets/colab-badge.svg\" alt=\"Open In Colab\"/></a>"
      ]
    },
    {
      "cell_type": "code",
      "source": [
        "from google.colab import drive\n",
        "drive.mount('/content/drive')"
      ],
      "metadata": {
        "id": "1IyZgoKxRu95",
        "colab": {
          "base_uri": "https://localhost:8080/"
        },
        "outputId": "e00dc321-1162-4111-c33f-8ccdf9a9dad6"
      },
      "execution_count": null,
      "outputs": [
        {
          "output_type": "stream",
          "name": "stdout",
          "text": [
            "Mounted at /content/drive\n"
          ]
        }
      ]
    },
    {
      "cell_type": "code",
      "source": [
        "# verify GPU availability\n",
        "import tensorflow as tf\n",
        "\n",
        "device_name = tf.test.gpu_device_name()\n",
        "if device_name != '/device:GPU:0':\n",
        "  raise SystemError('GPU device not found')\n",
        "print('Found GPU at: {}'.format(device_name))"
      ],
      "metadata": {
        "id": "wjWkJ_l5Qggc",
        "colab": {
          "base_uri": "https://localhost:8080/"
        },
        "outputId": "0c397149-f6db-40c2-e9fc-349242d8f255"
      },
      "execution_count": null,
      "outputs": [
        {
          "output_type": "stream",
          "name": "stdout",
          "text": [
            "Found GPU at: /device:GPU:0\n"
          ]
        }
      ]
    },
    {
      "cell_type": "code",
      "metadata": {
        "id": "Nypg5oeucrob"
      },
      "source": [
        "import pandas as pd\n",
        "from matplotlib import pyplot as plt\n",
        "# Download following if not downloaded in local machine\n",
        "import nltk\n",
        "#nltk.download('stopwords')\n",
        "#nltk.download('punkt')\n",
        "from nltk.corpus import stopwords\n",
        "from nltk.stem import WordNetLemmatizer\n",
        "import gensim\n",
        "from tensorflow.keras.preprocessing.text import Tokenizer\n",
        "import numpy as np\n",
        "from tensorflow.keras.preprocessing.sequence import pad_sequences\n",
        "from tensorflow.keras.models import Sequential\n",
        "from tensorflow.keras.layers import Dense, Embedding, LSTM, Conv1D, MaxPool1D\n",
        "from sklearn.model_selection import train_test_split\n",
        "from sklearn.metrics import classification_report, accuracy_score\n",
        "from wordcloud import WordCloud\n",
        "import imblearn\n",
        "from collections import Counter"
      ],
      "execution_count": null,
      "outputs": []
    },
    {
      "cell_type": "code",
      "metadata": {
        "colab": {
          "base_uri": "https://localhost:8080/"
        },
        "id": "fYrbKDVfcult",
        "outputId": "3ae0d879-3033-4d2a-a9d1-fcab88bd6b40"
      },
      "source": [
        "import nltk\n",
        "nltk.download('stopwords')\n",
        "nltk.download('punkt')"
      ],
      "execution_count": null,
      "outputs": [
        {
          "output_type": "stream",
          "name": "stdout",
          "text": [
            "[nltk_data] Downloading package stopwords to /root/nltk_data...\n",
            "[nltk_data]   Unzipping corpora/stopwords.zip.\n",
            "[nltk_data] Downloading package punkt to /root/nltk_data...\n",
            "[nltk_data]   Unzipping tokenizers/punkt.zip.\n"
          ]
        },
        {
          "output_type": "execute_result",
          "data": {
            "text/plain": [
              "True"
            ]
          },
          "metadata": {},
          "execution_count": 4
        }
      ]
    },
    {
      "cell_type": "code",
      "metadata": {
        "colab": {
          "base_uri": "https://localhost:8080/",
          "height": 491
        },
        "id": "xH0-fT6Tcw9I",
        "outputId": "9414e85c-135f-4418-b091-8030aff0d537"
      },
      "source": [
        "# read csv files which contains all TRUE and all FALSE claims\n",
        "true = pd.read_csv('/content/drive/MyDrive/true28.csv', delimiter=\",\")\n",
        "df_true = pd.DataFrame(true, columns=['headline', 'text', 'keywords', 'ratingName'])\n",
        "df_true['label'] = 0\n",
        "# print('TRUE: ', df_true)\n",
        "# print(len(df_true)) # 4113\n",
        "\n",
        "\n",
        "false = pd.read_csv('/content/drive/MyDrive/false05.csv', delimiter=\",\", encoding='mac_roman')\n",
        "df_false = pd.DataFrame(false, columns=['headline', 'text', 'keywords', 'ratingName'])\n",
        "df_false['label'] = 1\n",
        "print('FALSE: ', df_false)\n",
        "# print(len(df_false)) #10000\n",
        "\n",
        "data = pd.concat([df_true, df_false])\n",
        "labels = data['label']\n",
        "# print(data) # 14113\n",
        "# print(data['label'].value_counts())\n",
        "# 1: 10000\n",
        "# 0: 4113\n",
        "\n",
        "# check if the dataset is well balanced\n",
        "label_size = [4113, 10000]\n",
        "plt.pie(label_size, explode=[0.1, 0.1], colors=['firebrick', 'navy'], startangle=90, shadow=True,\n",
        "        labels=['True', 'Fake'], autopct='%1.1f%%')\n",
        "plt.show()\n",
        "\n",
        "# shuffle the dataset\n",
        "data = data.sample(frac=1)\n",
        "# print(data.head(20))"
      ],
      "execution_count": null,
      "outputs": [
        {
          "output_type": "stream",
          "name": "stdout",
          "text": [
            "FALSE:                                                 headline  ... label\n",
            "0                           Who Stripped Jessica Rabbit  ...     1\n",
            "1            Translation of Turkish Airline Regulations  ...     1\n",
            "2     The health care law a \"\"job killer\"\"? The evid...  ...     1\n",
            "3     FALSE: Trump Supporters Misspelled His Name wi...  ...     1\n",
            "4                      Tom Daschle Pledge of Allegiance  ...     1\n",
            "...                                                 ...  ...   ...\n",
            "9995  Rauner's Chicago schools \"\"bailout\"\" claim roo...  ...     1\n",
            "9996  Did President Trump Sign an Executive Order Na...  ...     1\n",
            "9997                                One Pound of Mofeen  ...     1\n",
            "9998  No, Trump didn't say illegal immigration has b...  ...     1\n",
            "9999   Is This a Poster for a New ‚ÄòTwilight‚Äô Movie?  ...     1\n",
            "\n",
            "[10000 rows x 5 columns]\n"
          ]
        },
        {
          "output_type": "display_data",
          "data": {
            "image/png": "[encoded data removed]",
            "text/plain": [
              "<Figure size 432x288 with 1 Axes>"
            ]
          },
          "metadata": {}
        }
      ]
    },
    {
      "cell_type": "code",
      "metadata": {
        "colab": {
          "base_uri": "https://localhost:8080/"
        },
        "id": "nOcL2ZzJczbJ",
        "outputId": "18bfd862-19ac-450b-94a9-b18a57f71712"
      },
      "source": [
        "label = data['label']\n",
        "data.info()"
      ],
      "execution_count": null,
      "outputs": [
        {
          "output_type": "stream",
          "name": "stdout",
          "text": [
            "<class 'pandas.core.frame.DataFrame'>\n",
            "Int64Index: 14113 entries, 9948 to 8773\n",
            "Data columns (total 5 columns):\n",
            " #   Column      Non-Null Count  Dtype \n",
            "---  ------      --------------  ----- \n",
            " 0   headline    14113 non-null  object\n",
            " 1   text        14113 non-null  object\n",
            " 2   keywords    14113 non-null  object\n",
            " 3   ratingName  14113 non-null  bool  \n",
            " 4   label       14113 non-null  int64 \n",
            "dtypes: bool(1), int64(1), object(3)\n",
            "memory usage: 565.1+ KB\n"
          ]
        }
      ]
    },
    {
      "cell_type": "code",
      "metadata": {
        "colab": {
          "base_uri": "https://localhost:8080/"
        },
        "id": "uau3b97Jc-0N",
        "outputId": "cb1645e6-aaf2-4b58-bbcf-1f4a6e56aa2d"
      },
      "source": [
        "# class count\n",
        "true_count, false_count = data['label'].value_counts()\n",
        "# Separate class\n",
        "true = data[data['label'] == 0] #true claims\n",
        "false = data[data['label'] == 1]# print the shape of the class #false claims\n",
        "print('true 0:', true.shape)\n",
        "print('false 1:', false.shape)"
      ],
      "execution_count": null,
      "outputs": [
        {
          "output_type": "stream",
          "name": "stdout",
          "text": [
            "true 0: (4113, 5)\n",
            "false 1: (10000, 5)\n"
          ]
        }
      ]
    },
    {
      "cell_type": "code",
      "metadata": {
        "colab": {
          "base_uri": "https://localhost:8080/",
          "height": 347
        },
        "id": "w21iWR-3ZHB_",
        "outputId": "e2fd9cca-f0d3-498e-dfb5-0c2e4fb1179b"
      },
      "source": [
        "'''Undersampling can be defined as removing some observations of the majority class. This is done until the majority and \n",
        "minority class is balanced out'''\n",
        "false_under = false.sample(false_count)\n",
        "#print(class_1_under)\n",
        "\n",
        "data = pd.concat([false_under, true], axis=0)\n",
        "\n",
        "print(\"total class of 1 and 0:\",data['label'].value_counts())# plot the count after under-sampeling\n",
        "data['label'].value_counts().plot(kind='bar', title='count (target)')"
      ],
      "execution_count": null,
      "outputs": [
        {
          "output_type": "stream",
          "name": "stdout",
          "text": [
            "total class of 1 and 0: 1    4113\n",
            "0    4113\n",
            "Name: label, dtype: int64\n"
          ]
        },
        {
          "output_type": "execute_result",
          "data": {
            "text/plain": [
              "<matplotlib.axes._subplots.AxesSubplot at 0x7f3d96f83710>"
            ]
          },
          "metadata": {},
          "execution_count": 8
        },
        {
          "output_type": "display_data",
          "data": {
            "image/png": "[encoded data removed]",
            "text/plain": [
              "<Figure size 432x288 with 1 Axes>"
            ]
          },
          "metadata": {
            "needs_background": "light"
          }
        }
      ]
    },
    {
      "cell_type": "code",
      "metadata": {
        "colab": {
          "base_uri": "https://localhost:8080/"
        },
        "id": "0CSFSBpodxsG",
        "outputId": "d8d85daf-bba1-490b-cb98-547308bc94b5"
      },
      "source": [
        "data.info()"
      ],
      "execution_count": null,
      "outputs": [
        {
          "output_type": "stream",
          "name": "stdout",
          "text": [
            "<class 'pandas.core.frame.DataFrame'>\n",
            "Int64Index: 8226 entries, 4272 to 2957\n",
            "Data columns (total 5 columns):\n",
            " #   Column      Non-Null Count  Dtype \n",
            "---  ------      --------------  ----- \n",
            " 0   headline    8226 non-null   object\n",
            " 1   text        8226 non-null   object\n",
            " 2   keywords    8226 non-null   object\n",
            " 3   ratingName  8226 non-null   bool  \n",
            " 4   label       8226 non-null   int64 \n",
            "dtypes: bool(1), int64(1), object(3)\n",
            "memory usage: 329.4+ KB\n"
          ]
        }
      ]
    },
    {
      "cell_type": "code",
      "metadata": {
        "id": "LvelehvEgWJX"
      },
      "source": [
        "target = data['label']"
      ],
      "execution_count": null,
      "outputs": []
    },
    {
      "cell_type": "code",
      "metadata": {
        "id": "jOoP1W8UdQpv"
      },
      "source": [
        "y = data[\"text\"].values\n",
        "#Converting X to format acceptable by gensim, removing annd punctuation stopwords in the process\n",
        "X = []\n",
        "stop_words = set(nltk.corpus.stopwords.words(\"english\"))\n",
        "tokenizer = nltk.tokenize.RegexpTokenizer(r'\\w+')\n",
        "for par in data[\"text\"].values:\n",
        "    tmp = []\n",
        "    sentences = nltk.sent_tokenize(par)\n",
        "    for sent in sentences:\n",
        "        sent = sent.lower()\n",
        "        tokens = tokenizer.tokenize(sent)\n",
        "        filtered_words = [w.strip() for w in tokens if w not in stop_words and len(w) > 1]\n",
        "        tmp.extend(filtered_words)\n",
        "    X.append(tmp)\n",
        "\n",
        "del data"
      ],
      "execution_count": null,
      "outputs": []
    },
    {
      "cell_type": "code",
      "metadata": {
        "id": "E4NykJ82ethI",
        "colab": {
          "base_uri": "https://localhost:8080/"
        },
        "outputId": "479b422b-aaa2-4f4e-a86b-2f8b07eeb4de"
      },
      "source": [
        "len(X)"
      ],
      "execution_count": null,
      "outputs": [
        {
          "output_type": "execute_result",
          "data": {
            "text/plain": [
              "8226"
            ]
          },
          "metadata": {},
          "execution_count": 13
        }
      ]
    },
    {
      "cell_type": "markdown",
      "metadata": {
        "id": "qW0ub8rFezD8"
      },
      "source": [
        "Word2Vec implementation\n",
        "Word2Vec is one of the most popular technique to learn word embeddings using shallow neural network. It was developed by Tomas Mikolov in 2013 at Google.\n",
        "\n",
        "Word embedding is the most popular representation of document vocabulary. It is capable of capturing context of a word in a document, semantic and syntactic similarity, relation with other words, etc.\n"
      ]
    },
    {
      "cell_type": "code",
      "metadata": {
        "id": "5JycnQWke0sc"
      },
      "source": [
        "#create and check our own Word2Vec model with gensim\n",
        "#Dimension of vectors we are generating\n",
        "EMBEDDING_DIM = 100\n",
        "\n",
        "#Creating Word Vectors by Word2Vec Method (takes time...)\n",
        "w2v_model = gensim.models.Word2Vec(sentences=X, size=EMBEDDING_DIM, window=5, min_count=1)"
      ],
      "execution_count": null,
      "outputs": []
    },
    {
      "cell_type": "code",
      "metadata": {
        "colab": {
          "base_uri": "https://localhost:8080/"
        },
        "id": "taMfWpyCe6bQ",
        "outputId": "3e9fc2e0-09f6-4f19-8f99-4a384878e601"
      },
      "source": [
        "#vocab size\n",
        "len(w2v_model.wv.vocab)"
      ],
      "execution_count": null,
      "outputs": [
        {
          "output_type": "execute_result",
          "data": {
            "text/plain": [
              "14741"
            ]
          },
          "metadata": {},
          "execution_count": 15
        }
      ]
    },
    {
      "cell_type": "code",
      "metadata": {
        "colab": {
          "base_uri": "https://localhost:8080/"
        },
        "id": "ZkIsOpwxe9Er",
        "outputId": "9e800e48-8b79-4c66-dba2-ae0d40a0452b"
      },
      "source": [
        "#see a sample vector for random word, lets say health\n",
        "w2v_model[\"health\"]"
      ],
      "execution_count": null,
      "outputs": [
        {
          "output_type": "stream",
          "name": "stderr",
          "text": [
            "/usr/local/lib/python3.7/dist-packages/ipykernel_launcher.py:2: DeprecationWarning: Call to deprecated `__getitem__` (Method will be removed in 4.0.0, use self.wv.__getitem__() instead).\n",
            "  \n"
          ]
        },
        {
          "output_type": "execute_result",
          "data": {
            "text/plain": [
              "array([-0.43839285, -0.4932175 ,  0.62703663, -0.18694556, -0.12791602,\n",
              "       -0.22854312,  0.88346714, -0.33090428, -0.24860436, -0.8107663 ,\n",
              "       -0.16570173, -0.38784474, -0.1603296 ,  0.04321596, -0.19505455,\n",
              "        0.17643312, -0.30591583,  0.13433132, -0.19965394, -0.1524461 ,\n",
              "        0.00283498,  0.33380973, -0.04668997,  0.35342625, -0.20005754,\n",
              "        0.16666123,  0.48989415, -0.07883285,  0.00116632, -0.42620644,\n",
              "        0.26523957, -0.21510766, -0.74575406, -0.4878328 ,  0.08907425,\n",
              "        0.25364342, -0.517766  ,  0.11258429,  0.2191993 , -0.00412446,\n",
              "        0.02265214,  0.18493427,  0.36787552, -0.5254123 ,  0.33849406,\n",
              "       -0.29416364,  0.15347673,  0.00887579,  0.0106462 , -0.15461795,\n",
              "        0.19077022, -0.26642987,  0.8731433 , -0.27987078,  0.37683734,\n",
              "        0.24859947,  0.00602625,  0.14863281, -0.10103885, -0.12447929,\n",
              "       -0.05437266,  0.52295667, -0.78380066, -0.11634915,  0.0544257 ,\n",
              "       -0.15421343, -0.04986753, -0.01171815,  0.05283066, -0.3106744 ,\n",
              "       -0.03241223, -0.2823731 , -0.276104  ,  0.28648958,  0.01554891,\n",
              "       -0.59057534, -0.2071049 ,  0.44690058, -0.21573365,  0.177564  ,\n",
              "       -0.1454152 ,  0.3971935 ,  0.09353075, -0.22661506, -0.04451764,\n",
              "       -0.10152914,  0.32473096,  0.64087224, -0.07893112,  0.11549517,\n",
              "        0.16707774,  0.43748263, -0.03703668, -0.19780952, -0.24369688,\n",
              "       -0.04636458,  0.57272995,  0.19644637, -0.3098213 , -0.17825498],\n",
              "      dtype=float32)"
            ]
          },
          "metadata": {},
          "execution_count": 16
        }
      ]
    },
    {
      "cell_type": "code",
      "metadata": {
        "colab": {
          "base_uri": "https://localhost:8080/"
        },
        "id": "VXIrgsoUfAaa",
        "outputId": "6b32be88-bafc-4c4b-da8b-24df6d75f168"
      },
      "source": [
        "#Feeding US Presidents\n",
        "w2v_model.wv.most_similar(positive=[\"trump\",\"obama\", \"clinton\"])"
      ],
      "execution_count": null,
      "outputs": [
        {
          "output_type": "execute_result",
          "data": {
            "text/plain": [
              "[('presidential', 0.998899519443512),\n",
              " ('president', 0.9988746643066406),\n",
              " ('said', 0.9988381266593933),\n",
              " ('former', 0.9988139271736145),\n",
              " ('says', 0.9987863898277283),\n",
              " ('bush', 0.9987636804580688),\n",
              " ('2018', 0.9986414909362793),\n",
              " ('äôs', 0.9985404014587402),\n",
              " ('campaign', 0.9984791278839111),\n",
              " ('would', 0.9984733462333679)]"
            ]
          },
          "metadata": {},
          "execution_count": 17
        }
      ]
    },
    {
      "cell_type": "code",
      "metadata": {
        "id": "2uAfiMYLfFvB"
      },
      "source": [
        "# Tokenizing Text -> Repsesenting each word by a number\n",
        "# Mapping of orginal word to number is preserved in word_index property of tokenizer\n",
        "\n",
        "#Tokenized applies basic processing like changing it yo lower case, explicitely setting that as False\n",
        "tokenizer = Tokenizer()\n",
        "tokenizer.fit_on_texts(X)\n",
        "\n",
        "X = tokenizer.texts_to_sequences(X)"
      ],
      "execution_count": null,
      "outputs": []
    },
    {
      "cell_type": "code",
      "metadata": {
        "colab": {
          "base_uri": "https://localhost:8080/"
        },
        "id": "TUp4xaC7fJWY",
        "outputId": "8faa418d-4912-4b81-d6ee-20e7ab1f57be"
      },
      "source": [
        "# lets check the first 10 words of first news\n",
        "#every word has been represented with a number\n",
        "X[0][:10]"
      ],
      "execution_count": null,
      "outputs": [
        {
          "output_type": "execute_result",
          "data": {
            "text/plain": [
              "[27, 1261, 314, 3426, 3427, 121, 1017, 837, 4137]"
            ]
          },
          "metadata": {},
          "execution_count": 19
        }
      ]
    },
    {
      "cell_type": "code",
      "metadata": {
        "colab": {
          "base_uri": "https://localhost:8080/"
        },
        "id": "5r7Z-rdEfLwW",
        "outputId": "ad686bd3-3cf7-454b-d605-fb56e3ac2d43"
      },
      "source": [
        "#Lets check few word to numerical replesentation\n",
        "#Mapping is preserved in dictionary -> word_index property of instance\n",
        "word_index = tokenizer.word_index\n",
        "for word, num in word_index.items():\n",
        "    print(f\"{word} -> {num}\")\n",
        "    if num == 10:\n",
        "        break  "
      ],
      "execution_count": null,
      "outputs": [
        {
          "output_type": "stream",
          "name": "stdout",
          "text": [
            "says -> 1\n",
            "president -> 2\n",
            "obama -> 3\n",
            "shows -> 4\n",
            "trump -> 5\n",
            "percent -> 6\n",
            "state -> 7\n",
            "äôs -> 8\n",
            "one -> 9\n",
            "photograph -> 10\n"
          ]
        }
      ]
    },
    {
      "cell_type": "markdown",
      "metadata": {
        "id": "71nJeSZ8fUrJ"
      },
      "source": [
        "We can pass numerical representation of words into neural network.\n",
        "\n",
        "We can use Many-To-One (Sequence-To-Word) Model of RNN, as we have many words in news as input and one output ie Probability of being Real.\n",
        "\n",
        "For Many-To-One model, lets use a fixed size input."
      ]
    },
    {
      "cell_type": "code",
      "metadata": {
        "colab": {
          "base_uri": "https://localhost:8080/",
          "height": 266
        },
        "id": "mAYNfrkMfWJF",
        "outputId": "d115988f-13d8-4533-dc83-deaea8b195d0"
      },
      "source": [
        "# For determining size of input...\n",
        "\n",
        "# Making histogram for no of words in news shows that most news article are under 20 words.\n",
        "# Lets keep each news small and truncate all news to 20 while tokenizing\n",
        "plt.hist([len(x) for x in X], bins=500)\n",
        "plt.show()"
      ],
      "execution_count": null,
      "outputs": [
        {
          "output_type": "display_data",
          "data": {
            "image/png": "[encoded data removed]",
            "text/plain": [
              "<Figure size 432x288 with 1 Axes>"
            ]
          },
          "metadata": {
            "needs_background": "light"
          }
        }
      ]
    },
    {
      "cell_type": "code",
      "metadata": {
        "colab": {
          "base_uri": "https://localhost:8080/"
        },
        "id": "dptnRqbDfZ2N",
        "outputId": "b7438cc2-2408-49ec-ac7e-3cdcb9baf17e"
      },
      "source": [
        "nos = np.array([len(x) for x in X])\n",
        "len(nos[nos  < 20])"
      ],
      "execution_count": null,
      "outputs": [
        {
          "output_type": "execute_result",
          "data": {
            "text/plain": [
              "7977"
            ]
          },
          "metadata": {},
          "execution_count": 22
        }
      ]
    },
    {
      "cell_type": "code",
      "metadata": {
        "id": "Qn1cCuwHfdJC"
      },
      "source": [
        "#Lets keep all news to 20, add padding to news with less than 20 words and truncating long ones\n",
        "maxlen = 20 \n",
        "\n",
        "#Making all news of size maxlen defined above\n",
        "X = pad_sequences(X, maxlen=maxlen)"
      ],
      "execution_count": null,
      "outputs": []
    },
    {
      "cell_type": "code",
      "metadata": {
        "colab": {
          "base_uri": "https://localhost:8080/"
        },
        "id": "alIHRfodfgZK",
        "outputId": "5f6e31f4-bfd1-4318-ce39-3722b02f5071"
      },
      "source": [
        "#all news has 20 words (in numerical form now). If they had less words, they have been padded with 0\n",
        "# 0 is not associated to any word, as mapping of words started from 1\n",
        "# 0 will also be used later, if unknows word is encountered in test set\n",
        "len(X[0])"
      ],
      "execution_count": null,
      "outputs": [
        {
          "output_type": "execute_result",
          "data": {
            "text/plain": [
              "20"
            ]
          },
          "metadata": {},
          "execution_count": 24
        }
      ]
    },
    {
      "cell_type": "code",
      "metadata": {
        "id": "lyq2cn2Efi_Z"
      },
      "source": [
        "# Adding 1 because of reserved 0 index\n",
        "# Embedding Layer creates one more vector for \"UNKNOWN\" words, or padded words (0s). This Vector is filled with zeros.\n",
        "# Thus our vocab size inceeases by 1\n",
        "vocab_size = len(tokenizer.word_index) + 1"
      ],
      "execution_count": null,
      "outputs": []
    },
    {
      "cell_type": "code",
      "metadata": {
        "id": "BJBFOSrofmcM"
      },
      "source": [
        "# Function to create weight matrix from word2vec gensim model\n",
        "def get_weight_matrix(model, vocab):\n",
        "    # total vocabulary size plus 0 for unknown words\n",
        "    vocab_size = len(vocab) + 1\n",
        "    # define weight matrix dimensions with all 0\n",
        "    weight_matrix = np.zeros((vocab_size, EMBEDDING_DIM))\n",
        "    # step vocab, store vectors using the Tokenizer's integer mapping\n",
        "    for word, i in vocab.items():\n",
        "        weight_matrix[i] = model[word]\n",
        "    return weight_matrix"
      ],
      "execution_count": null,
      "outputs": []
    },
    {
      "cell_type": "code",
      "metadata": {
        "colab": {
          "base_uri": "https://localhost:8080/"
        },
        "id": "1lM6wr5LfrFQ",
        "outputId": "0f035d3a-24e8-496e-c27d-79d4de398684"
      },
      "source": [
        "#Getting embedding vectors from word2vec and usings it as weights of non-trainable keras embedding layer\n",
        "embedding_vectors = get_weight_matrix(w2v_model, word_index)"
      ],
      "execution_count": null,
      "outputs": [
        {
          "output_type": "stream",
          "name": "stderr",
          "text": [
            "/usr/local/lib/python3.7/dist-packages/ipykernel_launcher.py:9: DeprecationWarning: Call to deprecated `__getitem__` (Method will be removed in 4.0.0, use self.wv.__getitem__() instead).\n",
            "  if __name__ == '__main__':\n"
          ]
        }
      ]
    },
    {
      "cell_type": "code",
      "metadata": {
        "colab": {
          "base_uri": "https://localhost:8080/"
        },
        "id": "2VKY5SyAfPKD",
        "outputId": "32053fb3-f7ee-479f-ce8a-0aa1edde27d1"
      },
      "source": [
        "print(embedding_vectors)"
      ],
      "execution_count": null,
      "outputs": [
        {
          "output_type": "stream",
          "name": "stdout",
          "text": [
            "[[ 0.00000000e+00  0.00000000e+00  0.00000000e+00 ...  0.00000000e+00\n",
            "   0.00000000e+00  0.00000000e+00]\n",
            " [-4.64842290e-01 -5.15702963e-01  7.28903711e-01 ...  2.54575521e-01\n",
            "  -3.86542797e-01 -2.62608737e-01]\n",
            " [-4.66518879e-01 -4.88476634e-01  7.16071427e-01 ...  2.56393939e-01\n",
            "  -3.70755851e-01 -2.77469844e-01]\n",
            " ...\n",
            " [-1.15900446e-04 -4.69918782e-03  6.51163468e-03 ...  3.05494224e-03\n",
            "  -8.92479555e-04 -5.02069574e-03]\n",
            " [-6.48108020e-04 -2.85998918e-03  9.39984166e-05 ... -9.85984574e-04\n",
            "   8.12267710e-04 -3.00826808e-03]\n",
            " [-7.56854704e-03 -5.94694447e-03 -4.97201283e-04 ... -2.66045844e-03\n",
            "   2.00112117e-04 -5.98262390e-03]]\n"
          ]
        }
      ]
    },
    {
      "cell_type": "code",
      "metadata": {
        "id": "c0NIoOnjfyPz"
      },
      "source": [
        "#Defining Neural Network\n",
        "model = Sequential()\n",
        "#Non-trainable embeddidng layer\n",
        "model.add(Embedding(vocab_size, output_dim=EMBEDDING_DIM, weights=[embedding_vectors], input_length=maxlen, trainable=False))\n",
        "#LSTM \n",
        "model.add(LSTM(units=128))\n",
        "model.add(Dense(1, activation='sigmoid'))\n",
        "model.compile(optimizer='adam', loss='binary_crossentropy', metrics=['acc'])\n",
        "\n",
        "del embedding_vectors"
      ],
      "execution_count": null,
      "outputs": []
    },
    {
      "cell_type": "code",
      "metadata": {
        "colab": {
          "base_uri": "https://localhost:8080/"
        },
        "id": "sSKzXD0Mf03L",
        "outputId": "d69e63d2-3fd8-4d42-a132-564cdc7304cb"
      },
      "source": [
        "model.summary()"
      ],
      "execution_count": null,
      "outputs": [
        {
          "output_type": "stream",
          "name": "stdout",
          "text": [
            "Model: \"sequential\"\n",
            "_________________________________________________________________\n",
            " Layer (type)                Output Shape              Param #   \n",
            "=================================================================\n",
            " embedding (Embedding)       (None, 20, 100)           1474200   \n",
            "                                                                 \n",
            " lstm (LSTM)                 (None, 128)               117248    \n",
            "                                                                 \n",
            " dense (Dense)               (None, 1)                 129       \n",
            "                                                                 \n",
            "=================================================================\n",
            "Total params: 1,591,577\n",
            "Trainable params: 117,377\n",
            "Non-trainable params: 1,474,200\n",
            "_________________________________________________________________\n"
          ]
        }
      ]
    },
    {
      "cell_type": "code",
      "metadata": {
        "id": "ZOPqzALMf2WB",
        "colab": {
          "base_uri": "https://localhost:8080/"
        },
        "outputId": "0bbc5c6d-2db1-4883-c9e6-6be9dec6f1c3"
      },
      "source": [
        "x_train, x_test, y_train, y_test = train_test_split(X, target, test_size =0.20, random_state=42)\n",
        "train_X, X_val, y_train, y_val = train_test_split(x_train, y_train, test_size =0.10, random_state=42)\n",
        "print('Size training set: ',len(x_train))\n",
        "print('Size validation set: ', len(X_val))\n",
        "print('Size test set: ', len(x_test))"
      ],
      "execution_count": null,
      "outputs": [
        {
          "output_type": "stream",
          "name": "stdout",
          "text": [
            "Size training set:  6580\n",
            "Size validation set:  658\n",
            "Size test set:  1646\n"
          ]
        }
      ]
    },
    {
      "cell_type": "code",
      "metadata": {
        "colab": {
          "base_uri": "https://localhost:8080/"
        },
        "id": "yxdzKef6g7G2",
        "outputId": "cbe7eaaa-6e1f-4372-9a9b-de1cfe7f2179"
      },
      "source": [
        "history = model.fit(train_X, y_train, epochs=10,validation_data=(X_val, y_val))"
      ],
      "execution_count": null,
      "outputs": [
        {
          "output_type": "stream",
          "name": "stdout",
          "text": [
            "Epoch 1/10\n",
            "186/186 [==============================] - 10s 12ms/step - loss: 0.6934 - acc: 0.5133 - val_loss: 0.7035 - val_acc: 0.5030\n",
            "Epoch 2/10\n",
            "186/186 [==============================] - 2s 10ms/step - loss: 0.6924 - acc: 0.5108 - val_loss: 0.6970 - val_acc: 0.5061\n",
            "Epoch 3/10\n",
            "186/186 [==============================] - 2s 10ms/step - loss: 0.6906 - acc: 0.5297 - val_loss: 0.6960 - val_acc: 0.4970\n",
            "Epoch 4/10\n",
            "186/186 [==============================] - 2s 9ms/step - loss: 0.6898 - acc: 0.5387 - val_loss: 0.6995 - val_acc: 0.5061\n",
            "Epoch 5/10\n",
            "186/186 [==============================] - 2s 10ms/step - loss: 0.6890 - acc: 0.5361 - val_loss: 0.6963 - val_acc: 0.4924\n",
            "Epoch 6/10\n",
            "186/186 [==============================] - 2s 9ms/step - loss: 0.6879 - acc: 0.5385 - val_loss: 0.6991 - val_acc: 0.4954\n",
            "Epoch 7/10\n",
            "186/186 [==============================] - 2s 10ms/step - loss: 0.6872 - acc: 0.5404 - val_loss: 0.6970 - val_acc: 0.4954\n",
            "Epoch 8/10\n",
            "186/186 [==============================] - 2s 9ms/step - loss: 0.6852 - acc: 0.5496 - val_loss: 0.6946 - val_acc: 0.4878\n",
            "Epoch 9/10\n",
            "186/186 [==============================] - 2s 9ms/step - loss: 0.6841 - acc: 0.5491 - val_loss: 0.6967 - val_acc: 0.5243\n",
            "Epoch 10/10\n",
            "186/186 [==============================] - 2s 9ms/step - loss: 0.6856 - acc: 0.5517 - val_loss: 0.6957 - val_acc: 0.5106\n"
          ]
        }
      ]
    },
    {
      "cell_type": "code",
      "source": [
        "type(history)"
      ],
      "metadata": {
        "colab": {
          "base_uri": "https://localhost:8080/"
        },
        "id": "4O9QVa5U0qhV",
        "outputId": "a2d37832-bf81-4601-a98d-a2c1d35d7eb9"
      },
      "execution_count": null,
      "outputs": [
        {
          "output_type": "execute_result",
          "data": {
            "text/plain": [
              "keras.callbacks.History"
            ]
          },
          "metadata": {},
          "execution_count": 37
        }
      ]
    },
    {
      "cell_type": "code",
      "source": [
        "loss_train = history.history['loss']\n",
        "loss_val = history.history['val_loss']\n",
        "epochs = range(1,11)\n",
        "plt.plot(epochs, loss_train, 'g', label='Training loss')\n",
        "plt.plot(epochs, loss_val, 'b', label='validation loss')\n",
        "plt.title('Training and Validation loss for Undersampling data')\n",
        "plt.xlabel('Epochs')\n",
        "plt.ylabel('Loss')\n",
        "plt.legend()\n",
        "plt.show()"
      ],
      "metadata": {
        "colab": {
          "base_uri": "https://localhost:8080/",
          "height": 295
        },
        "id": "Hepq5ic_0iq6",
        "outputId": "733b567f-7398-4b26-9814-9a941f38539f"
      },
      "execution_count": null,
      "outputs": [
        {
          "output_type": "display_data",
          "data": {
            "image/png": "[encoded data removed]",
            "text/plain": [
              "<Figure size 432x288 with 1 Axes>"
            ]
          },
          "metadata": {
            "needs_background": "light"
          }
        }
      ]
    },
    {
      "cell_type": "code",
      "source": [
        "loss_train = history.history['acc']\n",
        "loss_val = history.history['val_acc']\n",
        "epochs = range(1,11)\n",
        "plt.plot(epochs, loss_train, 'g', label='Training accuracy')\n",
        "plt.plot(epochs, loss_val, 'b', label='validation accuracy')\n",
        "plt.title('Training and Validation accuracy for Undersampling data')\n",
        "plt.xlabel('Epochs')\n",
        "plt.ylabel('Accuracy')\n",
        "plt.legend()\n",
        "plt.show()"
      ],
      "metadata": {
        "colab": {
          "base_uri": "https://localhost:8080/",
          "height": 295
        },
        "id": "szQPfc-m1KeL",
        "outputId": "79da3a3b-8d42-4522-c405-c4b7acb3a2f5"
      },
      "execution_count": null,
      "outputs": [
        {
          "output_type": "display_data",
          "data": {
            "image/png": "[encoded data removed]",
            "text/plain": [
              "<Figure size 432x288 with 1 Axes>"
            ]
          },
          "metadata": {
            "needs_background": "light"
          }
        }
      ]
    },
    {
      "cell_type": "code",
      "metadata": {
        "id": "VuisYBy7hO-n",
        "colab": {
          "base_uri": "https://localhost:8080/"
        },
        "outputId": "3cb1541b-e0bd-4a10-bc83-a09105d8bf59"
      },
      "source": [
        "#Prediction is in probability of news being true, so converting into classes\n",
        "# Class 1 (Fake) if predicted prob < 0.5, else class 0 (Real)\n",
        "y_pred = (model.predict(x_test) >= 0.5).astype(\"int\")\n",
        "accuracy_score(y_test, y_pred)\n",
        "target_names = ['real_news', 'fake_news']\n",
        "print(classification_report(y_test, y_pred, target_names = target_names))"
      ],
      "execution_count": null,
      "outputs": [
        {
          "output_type": "stream",
          "name": "stdout",
          "text": [
            "              precision    recall  f1-score   support\n",
            "\n",
            "   real_news       0.54      0.66      0.59       816\n",
            "   fake_news       0.57      0.44      0.50       830\n",
            "\n",
            "    accuracy                           0.55      1646\n",
            "   macro avg       0.55      0.55      0.54      1646\n",
            "weighted avg       0.55      0.55      0.54      1646\n",
            "\n"
          ]
        }
      ]
    },
    {
      "cell_type": "code",
      "source": [
        "import numpy as np\n",
        "\n",
        "def plot_classification_report(cr, title='Classification report ', with_avg_total=False, cmap=plt.cm.Blues):\n",
        "\n",
        "    lines = cr.split('\\n')\n",
        "\n",
        "    classes = []\n",
        "    plotMat = []\n",
        "    for line in lines[2 : (len(lines) - 5)]:\n",
        "        print(line)\n",
        "        t = line.split()\n",
        "        print(t)\n",
        "        classes.append(t[0])\n",
        "        v = [float(x) for x in t[1: len(t) - 1]]\n",
        "        print(v)\n",
        "        plotMat.append(v)\n",
        "\n",
        "    if with_avg_total:\n",
        "        aveTotal = lines[len(lines) - 1].split()\n",
        "        classes.append('avg/total')\n",
        "        vAveTotal = [float(x) for x in t[1:len(aveTotal) - 1]]\n",
        "        plotMat.append(vAveTotal)\n",
        "\n",
        "\n",
        "    plt.imshow(plotMat, interpolation='nearest', cmap=cmap)\n",
        "    plt.title(title)\n",
        "    plt.colorbar()\n",
        "    x_tick_marks = np.arange(3)\n",
        "    y_tick_marks = np.arange(len(classes))\n",
        "    plt.xticks(x_tick_marks, ['precision', 'recall', 'f1-score'], rotation=45)\n",
        "    plt.yticks(y_tick_marks, classes)\n",
        "    plt.tight_layout()\n",
        "    plt.ylabel('Classes')\n",
        "    plt.xlabel('Measures')\n",
        "\n",
        "\n",
        "ClassificationReport = classification_report(y_test, y_pred, target_names = target_names)\n",
        "plot_classification_report(ClassificationReport)"
      ],
      "metadata": {
        "id": "e7vElYQ4K42e",
        "colab": {
          "base_uri": "https://localhost:8080/",
          "height": 408
        },
        "outputId": "d628bd05-4779-4911-bc61-25ba36352063"
      },
      "execution_count": null,
      "outputs": [
        {
          "output_type": "stream",
          "name": "stdout",
          "text": [
            "   real_news       0.54      0.66      0.59       816\n",
            "['real_news', '0.54', '0.66', '0.59', '816']\n",
            "[0.54, 0.66, 0.59]\n",
            "   fake_news       0.57      0.44      0.50       830\n",
            "['fake_news', '0.57', '0.44', '0.50', '830']\n",
            "[0.57, 0.44, 0.5]\n"
          ]
        },
        {
          "output_type": "display_data",
          "data": {
            "image/png": "[encoded data removed]",
            "text/plain": [
              "<Figure size 432x288 with 2 Axes>"
            ]
          },
          "metadata": {
            "needs_background": "light"
          }
        }
      ]
    }
  ]
}